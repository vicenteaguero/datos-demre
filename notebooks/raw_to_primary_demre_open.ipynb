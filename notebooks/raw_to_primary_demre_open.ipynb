{
 "cells": [
  {
   "cell_type": "markdown",
   "metadata": {},
   "source": [
    "# Raw to Intermediate"
   ]
  },
  {
   "cell_type": "code",
   "execution_count": 1,
   "metadata": {},
   "outputs": [],
   "source": [
    "from tqdm import tqdm\n",
    "import pandas as pd\n",
    "import numpy as np\n",
    "\n",
    "import warnings\n",
    "import os\n",
    "import re\n",
    "\n",
    "from datos_demre.params import RAW_FILES_DEMRE_OPEN_PATH, RAW_DICTIONARIES_DEMRE_OPEN_PATH, PRIMARY_DATABASES_DEMRE_OPEN_PATH"
   ]
  },
  {
   "cell_type": "code",
   "execution_count": 2,
   "metadata": {},
   "outputs": [],
   "source": [
    "warnings.filterwarnings('ignore', category=pd.errors.DtypeWarning)\n",
    "warnings.filterwarnings('ignore', category=pd.errors.SettingWithCopyWarning)\n",
    "pd.set_option('display.max_columns', None)"
   ]
  },
  {
   "cell_type": "code",
   "execution_count": 3,
   "metadata": {},
   "outputs": [],
   "source": [
    "DATABASES = ['inscripciones', 'resultados', 'postulaciones', 'matriculas']\n",
    "\n",
    "VERBOSE = True"
   ]
  },
  {
   "cell_type": "code",
   "execution_count": 4,
   "metadata": {},
   "outputs": [],
   "source": [
    "def load_raw_dataset(name: str, year: int, verbose=False) -> pd.DataFrame:\n",
    "    if name not in DATABASES:\n",
    "        raise ValueError(f'Invalid dataset name. Must be one of {DATABASES}.')\n",
    "    df = pd.read_csv(\n",
    "        os.path.join(RAW_FILES_DEMRE_OPEN_PATH, str(year), f'{name}.csv'), sep=';'\n",
    "    )\n",
    "    df.insert(0, 'year_id', year)\n",
    "    df.columns = (\n",
    "        df.columns\n",
    "        .str.replace(r'[ \\-]', '_', regex=True)\n",
    "        .str.lower()\n",
    "        .str.replace(r'_+', '_', regex=True)\n",
    "    )\n",
    "    df = df[~df.id_aux.str.startswith('id_.')]\n",
    "    df.set_index(df.id_aux.str.lstrip('id_').astype(np.uint64), inplace=True)\n",
    "    df.index.name = 'alumno_id'\n",
    "    df.reset_index(inplace=True)\n",
    "    df.set_index(['alumno_id', 'year_id'], inplace=True)\n",
    "    df.drop(columns=['id_aux'], inplace=True)\n",
    "    numeric = df.select_dtypes(include=[np.number]).columns\n",
    "    for col in numeric:\n",
    "        uints = [np.uint8, np.uint16, np.uint32, np.uint64]\n",
    "        ints = [np.int8, np.int16, np.int32, np.int64]\n",
    "        for dtype in uints+ints:\n",
    "            if df[col].min() >= np.iinfo(dtype).min and df[col].max() < np.iinfo(dtype).max:\n",
    "                df[col] = df[col].astype(dtype, errors='ignore')\n",
    "                break\n",
    "    if verbose:\n",
    "        print(f'Loaded dataset {name} for year {year}.')\n",
    "        print(f'Rows: {df.shape[0]} | Columns: {df.shape[1]}')\n",
    "    ############################################################################\n",
    "    xlsx = pd.ExcelFile(\n",
    "        os.path.join(RAW_DICTIONARIES_DEMRE_OPEN_PATH, str(year), f'dict_{name}.xlsx')\n",
    "    )\n",
    "    df_d = {\n",
    "        re.sub(r'_+', '_', re.sub(r'[ \\-]', '_', sheet_name.lower())):\n",
    "            xlsx.parse(sheet_name) for sheet_name in xlsx.sheet_names\n",
    "    }\n",
    "    if verbose:\n",
    "        print(f'Dictionary: {df_d.keys()}')\n",
    "    for key, value in df_d.items():\n",
    "        df_d[key].dropna(how='all', inplace=True)\n",
    "        df_d[key].insert(0, 'year_id', year)\n",
    "        df_d[key].columns = (\n",
    "            df_d[key].columns\n",
    "            .str.replace(r'[ \\-]', '_', regex=True)\n",
    "            .str.lower()\n",
    "            .str.replace(r'_+', '_', regex=True)\n",
    "        )\n",
    "        if verbose:\n",
    "            print(f'\\t- {key}: {value.columns.tolist()}')\n",
    "    first_sheet_name = re.sub(r'_+', '_', re.sub(r'[ \\-]', '_', xlsx.sheet_names[0].lower()))\n",
    "    df_d[first_sheet_name]['variable'] = df_d[first_sheet_name]['variable'].ffill()\n",
    "    return df, df_d"
   ]
  },
  {
   "cell_type": "markdown",
   "metadata": {},
   "source": [
    "# PSU"
   ]
  },
  {
   "cell_type": "markdown",
   "metadata": {},
   "source": [
    "## 2004"
   ]
  },
  {
   "cell_type": "code",
   "execution_count": 5,
   "metadata": {},
   "outputs": [],
   "source": [
    "year = 2004\n",
    "# dfi, di = load_raw_dataset('inscripciones', year=year, verbose=VERBOSE)\n",
    "# dfr, dr = load_raw_dataset('resultados', year=year, verbose=VERBOSE)\n",
    "# dfp, dp = load_raw_dataset('postulaciones', year=year, verbose=VERBOSE)\n",
    "# dfm, dm = load_raw_dataset('matriculas', year=year, verbose=VERBOSE)"
   ]
  },
  {
   "cell_type": "markdown",
   "metadata": {},
   "source": [
    "## 2005"
   ]
  },
  {
   "cell_type": "code",
   "execution_count": 6,
   "metadata": {},
   "outputs": [],
   "source": [
    "year = 2005\n",
    "# dfi, di = load_raw_dataset('inscripciones', year=year, verbose=VERBOSE)\n",
    "# dfr, dr = load_raw_dataset('resultados', year=year, verbose=VERBOSE)\n",
    "# dfp, dp = load_raw_dataset('postulaciones', year=year, verbose=VERBOSE)\n",
    "# dfm, dm = load_raw_dataset('matriculas', year=year, verbose=VERBOSE)"
   ]
  },
  {
   "cell_type": "markdown",
   "metadata": {},
   "source": [
    "## 2006"
   ]
  },
  {
   "cell_type": "code",
   "execution_count": 7,
   "metadata": {},
   "outputs": [],
   "source": [
    "year = 2006\n",
    "# dfi, di = load_raw_dataset('inscripciones', year=year, verbose=VERBOSE)\n",
    "# dfr, dr = load_raw_dataset('resultados', year=year, verbose=VERBOSE)\n",
    "# dfp, dp = load_raw_dataset('postulaciones', year=year, verbose=VERBOSE)\n",
    "# dfm, dm = load_raw_dataset('matriculas', year=year, verbose=VERBOSE)"
   ]
  },
  {
   "cell_type": "markdown",
   "metadata": {},
   "source": [
    "## 2007"
   ]
  },
  {
   "cell_type": "code",
   "execution_count": 8,
   "metadata": {},
   "outputs": [],
   "source": [
    "year = 2007\n",
    "# dfi, di = load_raw_dataset('inscripciones', year=year, verbose=VERBOSE)\n",
    "# dfr, dr = load_raw_dataset('resultados', year=year, verbose=VERBOSE)\n",
    "# dfp, dp = load_raw_dataset('postulaciones', year=year, verbose=VERBOSE)\n",
    "# dfm, dm = load_raw_dataset('matriculas', year=year, verbose=VERBOSE)"
   ]
  },
  {
   "cell_type": "markdown",
   "metadata": {},
   "source": [
    "## 2008"
   ]
  },
  {
   "cell_type": "code",
   "execution_count": 9,
   "metadata": {},
   "outputs": [],
   "source": [
    "year = 2008\n",
    "# dfi, di = load_raw_dataset('inscripciones', year=year, verbose=VERBOSE)\n",
    "# dfr, dr = load_raw_dataset('resultados', year=year, verbose=VERBOSE)\n",
    "# dfp, dp = load_raw_dataset('postulaciones', year=year, verbose=VERBOSE)\n",
    "# dfm, dm = load_raw_dataset('matriculas', year=year, verbose=VERBOSE)"
   ]
  },
  {
   "cell_type": "markdown",
   "metadata": {},
   "source": [
    "## 2009"
   ]
  },
  {
   "cell_type": "code",
   "execution_count": 10,
   "metadata": {},
   "outputs": [],
   "source": [
    "year = 2009\n",
    "# dfi, di = load_raw_dataset('inscripciones', year=year, verbose=VERBOSE)\n",
    "# dfr, dr = load_raw_dataset('resultados', year=year, verbose=VERBOSE)\n",
    "# dfp, dp = load_raw_dataset('postulaciones', year=year, verbose=VERBOSE)\n",
    "# dfm, dm = load_raw_dataset('matriculas', year=year, verbose=VERBOSE)"
   ]
  },
  {
   "cell_type": "markdown",
   "metadata": {},
   "source": [
    "## 2010"
   ]
  },
  {
   "cell_type": "code",
   "execution_count": 11,
   "metadata": {},
   "outputs": [],
   "source": [
    "year = 2010\n",
    "# dfi, di = load_raw_dataset('inscripciones', year=year, verbose=VERBOSE)\n",
    "# dfr, dr = load_raw_dataset('resultados', year=year, verbose=VERBOSE)\n",
    "# dfp, dp = load_raw_dataset('postulaciones', year=year, verbose=VERBOSE)\n",
    "# dfm, dm = load_raw_dataset('matriculas', year=year, verbose=VERBOSE)"
   ]
  },
  {
   "cell_type": "markdown",
   "metadata": {},
   "source": [
    "## 2011"
   ]
  },
  {
   "cell_type": "code",
   "execution_count": 12,
   "metadata": {},
   "outputs": [],
   "source": [
    "year = 2011\n",
    "# dfi, di = load_raw_dataset('inscripciones', year=year, verbose=VERBOSE)\n",
    "# dfr, dr = load_raw_dataset('resultados', year=year, verbose=VERBOSE)\n",
    "# dfp, dp = load_raw_dataset('postulaciones', year=year, verbose=VERBOSE)\n",
    "# dfm, dm = load_raw_dataset('matriculas', year=year, verbose=VERBOSE)"
   ]
  },
  {
   "cell_type": "markdown",
   "metadata": {},
   "source": [
    "## 2012"
   ]
  },
  {
   "cell_type": "code",
   "execution_count": 13,
   "metadata": {},
   "outputs": [],
   "source": [
    "year = 2012\n",
    "# dfi, di = load_raw_dataset('inscripciones', year=year, verbose=VERBOSE)\n",
    "# dfr, dr = load_raw_dataset('resultados', year=year, verbose=VERBOSE)\n",
    "# dfp, dp = load_raw_dataset('postulaciones', year=year, verbose=VERBOSE)\n",
    "# dfm, dm = load_raw_dataset('matriculas', year=year, verbose=VERBOSE)"
   ]
  },
  {
   "cell_type": "markdown",
   "metadata": {},
   "source": [
    "## 2013"
   ]
  },
  {
   "cell_type": "code",
   "execution_count": 14,
   "metadata": {},
   "outputs": [],
   "source": [
    "year = 2013\n",
    "# dfi, di = load_raw_dataset('inscripciones', year=year, verbose=VERBOSE)\n",
    "# dfr, dr = load_raw_dataset('resultados', year=year, verbose=VERBOSE)\n",
    "# dfp, dp = load_raw_dataset('postulaciones', year=year, verbose=VERBOSE)\n",
    "# dfm, dm = load_raw_dataset('matriculas', year=year, verbose=VERBOSE)"
   ]
  },
  {
   "cell_type": "markdown",
   "metadata": {},
   "source": [
    "## 2014"
   ]
  },
  {
   "cell_type": "code",
   "execution_count": 15,
   "metadata": {},
   "outputs": [],
   "source": [
    "year = 2014\n",
    "# dfi, di = load_raw_dataset('inscripciones', year=year, verbose=VERBOSE)\n",
    "# dfr, dr = load_raw_dataset('resultados', year=year, verbose=VERBOSE)\n",
    "# dfp, dp = load_raw_dataset('postulaciones', year=year, verbose=VERBOSE)\n",
    "# dfm, dm = load_raw_dataset('matriculas', year=year, verbose=VERBOSE)"
   ]
  },
  {
   "cell_type": "markdown",
   "metadata": {},
   "source": [
    "## 2015"
   ]
  },
  {
   "cell_type": "code",
   "execution_count": 16,
   "metadata": {},
   "outputs": [],
   "source": [
    "year = 2015\n",
    "# dfi, di = load_raw_dataset('inscripciones', year=year, verbose=VERBOSE)\n",
    "# dfr, dr = load_raw_dataset('resultados', year=year, verbose=VERBOSE)\n",
    "# dfp, dp = load_raw_dataset('postulaciones', year=year, verbose=VERBOSE)\n",
    "# dfm, dm = load_raw_dataset('matriculas', year=year, verbose=VERBOSE)"
   ]
  },
  {
   "cell_type": "markdown",
   "metadata": {},
   "source": [
    "## 2016"
   ]
  },
  {
   "cell_type": "code",
   "execution_count": 17,
   "metadata": {},
   "outputs": [],
   "source": [
    "year = 2016\n",
    "# dfi, di = load_raw_dataset('inscripciones', year=year, verbose=VERBOSE)\n",
    "# dfr, dr = load_raw_dataset('resultados', year=year, verbose=VERBOSE)\n",
    "# dfp, dp = load_raw_dataset('postulaciones', year=year, verbose=VERBOSE)\n",
    "# dfm, dm = load_raw_dataset('matriculas', year=year, verbose=VERBOSE)"
   ]
  },
  {
   "cell_type": "markdown",
   "metadata": {},
   "source": [
    "## 2017"
   ]
  },
  {
   "cell_type": "code",
   "execution_count": 18,
   "metadata": {},
   "outputs": [],
   "source": [
    "year = 2017\n",
    "# dfi, di = load_raw_dataset('inscripciones', year=year, verbose=VERBOSE)\n",
    "# dfr, dr = load_raw_dataset('resultados', year=year, verbose=VERBOSE)\n",
    "# dfp, dp = load_raw_dataset('postulaciones', year=year, verbose=VERBOSE)\n",
    "# dfm, dm = load_raw_dataset('matriculas', year=year, verbose=VERBOSE)"
   ]
  },
  {
   "cell_type": "markdown",
   "metadata": {},
   "source": [
    "## 2018"
   ]
  },
  {
   "cell_type": "code",
   "execution_count": 19,
   "metadata": {},
   "outputs": [],
   "source": [
    "year = 2018\n",
    "# dfi, di = load_raw_dataset('inscripciones', year=year, verbose=VERBOSE)\n",
    "# dfr, dr = load_raw_dataset('resultados', year=year, verbose=VERBOSE)\n",
    "# dfp, dp = load_raw_dataset('postulaciones', year=year, verbose=VERBOSE)\n",
    "# dfm, dm = load_raw_dataset('matriculas', year=year, verbose=VERBOSE)"
   ]
  },
  {
   "cell_type": "markdown",
   "metadata": {},
   "source": [
    "## 2019"
   ]
  },
  {
   "cell_type": "code",
   "execution_count": 20,
   "metadata": {},
   "outputs": [],
   "source": [
    "year = 2019\n",
    "# dfi, di = load_raw_dataset('inscripciones', year=year, verbose=VERBOSE)\n",
    "# dfr, dr = load_raw_dataset('resultados', year=year, verbose=VERBOSE)\n",
    "# dfp, dp = load_raw_dataset('postulaciones', year=year, verbose=VERBOSE)\n",
    "# dfm, dm = load_raw_dataset('matriculas', year=year, verbose=VERBOSE)"
   ]
  },
  {
   "cell_type": "markdown",
   "metadata": {},
   "source": [
    "## 2020"
   ]
  },
  {
   "cell_type": "code",
   "execution_count": 21,
   "metadata": {},
   "outputs": [],
   "source": [
    "year = 2020\n",
    "# dfi, di = load_raw_dataset('inscripciones', year=year, verbose=VERBOSE)\n",
    "# dfr, dr = load_raw_dataset('resultados', year=year, verbose=VERBOSE)\n",
    "# dfp, dp = load_raw_dataset('postulaciones', year=year, verbose=VERBOSE)\n",
    "# dfm, dm = load_raw_dataset('matriculas', year=year, verbose=VERBOSE)"
   ]
  },
  {
   "cell_type": "markdown",
   "metadata": {},
   "source": [
    "## 2021"
   ]
  },
  {
   "cell_type": "code",
   "execution_count": 22,
   "metadata": {},
   "outputs": [],
   "source": [
    "year = 2021\n",
    "# dfi, di = load_raw_dataset('inscripciones', year=year, verbose=VERBOSE)\n",
    "# dfr, dr = load_raw_dataset('resultados', year=year, verbose=VERBOSE)\n",
    "# dfp, dp = load_raw_dataset('postulaciones', year=year, verbose=VERBOSE)\n",
    "# dfm, dm = load_raw_dataset('matriculas', year=year, verbose=VERBOSE)"
   ]
  },
  {
   "cell_type": "markdown",
   "metadata": {},
   "source": [
    "## 2022"
   ]
  },
  {
   "cell_type": "code",
   "execution_count": 23,
   "metadata": {},
   "outputs": [],
   "source": [
    "year = 2022\n",
    "# dfi, di = load_raw_dataset('inscripciones', year=year, verbose=VERBOSE)\n",
    "# dfr, dr = load_raw_dataset('resultados', year=year, verbose=VERBOSE)\n",
    "# dfp, dp = load_raw_dataset('postulaciones', year=year, verbose=VERBOSE)\n",
    "# dfm, dm = load_raw_dataset('matriculas', year=year, verbose=VERBOSE)"
   ]
  },
  {
   "cell_type": "markdown",
   "metadata": {},
   "source": [
    "# PAES (desde 2023 Regular)"
   ]
  },
  {
   "cell_type": "code",
   "execution_count": 24,
   "metadata": {},
   "outputs": [],
   "source": [
    "def paes_raw_to_intermediate(data: pd.DataFrame, data_dict: dict, kind='r') -> pd.DataFrame:\n",
    "    df = data.copy()\n",
    "    pruebas = dict()\n",
    "    for prueba in ['leng', 'mate1', 'mate2', 'hist', 'ciencias']:\n",
    "        for year in ['actual', 'anterior']:\n",
    "            for periodo in ['', '_inv']:\n",
    "                pruebas[f'{prueba}_{year}{periodo}'] = f'{prueba}_reg_{year}{periodo}'\n",
    "    cols = {\n",
    "        'rbd': ['rbd'],\n",
    "        'cod': ['cod_ens'],\n",
    "        'regimen': ['regimen'],\n",
    "        'grupo': ['grupo_dependencia'],\n",
    "        'rama': ['rama_educacional'],\n",
    "        'situacion': ['situacion_egreso'],\n",
    "        'region': ['codigo_region'],\n",
    "        'provincia': ['codigo_provincia'],\n",
    "        'comuna': ['codigo_comuna'],\n",
    "        'region_domicilio': ['codigo_region_d'],\n",
    "        'provincia_domicilio': ['codigo_provincia_d'],\n",
    "        'comuna_domicilio': ['codigo_comuna_d'],\n",
    "        'nacionalidad': ['pais_nacimiento'],\n",
    "        'notas': ['promedio_notas'],\n",
    "        'porc_notas': ['porc_sup_notas'],\n",
    "        'nem': ['ptje_nem'],\n",
    "        'ranking': ['ptje_ranking'],\n",
    "        'proceso': ['anyo_proceso'],\n",
    "        'egreso': ['anyo_egreso'],\n",
    "        'nacimiento': ['fecha_nacimiento'],\n",
    "        'percapita_familiar': ['ingreso_percapita_grupo_fa'],\n",
    "        'rindio': ['rindio_proceso_actual'],\n",
    "        'rindio_anterior': ['rindio_proceso_anterior'],\n",
    "        'pruebas': {\n",
    "            'leng_actual': ['clec_reg_actual'],\n",
    "            'mate1_actual': ['mate1_reg_actual'],\n",
    "            'mate2_actual': ['mate2_reg_actual'],\n",
    "            'hist_actual': ['hcsoc_reg_actual'],\n",
    "            'ciencias_actual': ['cien_reg_actual'],\n",
    "            'leng_actual_inv': ['clec_inv_actual'],\n",
    "            'mate1_actual_inv': ['mate1_inv_actual'],\n",
    "            'mate2_actual_inv': ['mate2_inv_actual'],\n",
    "            'hist_actual_inv': ['hcsoc_inv_actual'],\n",
    "            'ciencias_actual_inv': ['cien_inv_actual'],\n",
    "            'leng_anterior': ['clec_reg_anterior'],\n",
    "            'mate1_anterior': ['mate1_reg_anterior'],\n",
    "            'mate2_anterior': ['mate2_reg_anterior'],\n",
    "            'hist_anterior': ['hcsoc_reg_anterior'],\n",
    "            'ciencias_anterior': ['cien_reg_anterior'],\n",
    "            'leng_anterior_inv': ['clec_inv_anterior'],\n",
    "            'mate1_anterior_inv': ['mate1_inv_anterior'],\n",
    "            'mate2_anterior_inv': ['mate2_inv_anterior'],\n",
    "            'hist_anterior_inv': ['hcsoc_inv_anterior'],\n",
    "            'ciencias_anterior_inv': ['cien_inv_anterior'],\n",
    "        },\n",
    "        'ciencias_modulo_actual': ['modulo_reg_actual'],\n",
    "        'ciencias_modulo_actual_inv': ['modulo_inv_actual'],\n",
    "        'ciencias_modulo_anterior': ['modulo_reg_anterior'],\n",
    "        'ciencias_modulo_anterior_inv': ['modulo_inv_anterior'],\n",
    "        'postula': ['situacion_postulante'],\n",
    "        'pref': ['orden_pref'],\n",
    "        'carrera': ['cod_carrera_pref'],\n",
    "        'estado': ['estado_pref'],\n",
    "        'puntaje': ['ptje_pref'],\n",
    "        'tipo': ['tipo_pref'],\n",
    "        'drop_columns': ['mate_inv_actual', 'mate_inv_anterior']\n",
    "    }\n",
    "    for col, variants in cols.items():\n",
    "        if col == 'pruebas':\n",
    "            for test_col, test_variants in variants.items():\n",
    "                for test_variant in test_variants:\n",
    "                    if test_variant in df.columns:\n",
    "                        df[test_col] = df[test_variant]\n",
    "                        if test_variant != test_col:\n",
    "                            df.drop(columns=[test_variant], inplace=True)\n",
    "        else:\n",
    "            for variant in variants:\n",
    "                if variant in df.columns:\n",
    "                    df[col] = df[variant]\n",
    "                    if variant != col:\n",
    "                        df.drop(columns=[variant], inplace=True)\n",
    "    year_id = df.index.get_level_values('year_id').unique().item()\n",
    "    if kind == 'r':\n",
    "        drop_cols = [\n",
    "            'rbd', 'cod', 'grupo', 'rama', 'situacion', 'region', 'comuna', 'drop_columns'\n",
    "        ]\n",
    "        if year_id == 2023:\n",
    "            drop_cols += [\n",
    "                'leng_actual_inv', 'hist_actual_inv', 'ciencias_actual_inv',\n",
    "                'ciencias_modulo_actual_inv', 'leng_anterior', 'mate1_anterior',\n",
    "                'hist_anterior', 'ciencias_anterior', 'ciencias_modulo_anterior'\n",
    "            ]\n",
    "        elif year_id == 2024:\n",
    "            drop_cols += [\n",
    "                'leng_anterior_inv', 'mate1_anterior_inv', 'hist_anterior_inv',\n",
    "                'ciencias_anterior_inv', 'ciencias_modulo_anterior_inv'\n",
    "            ]\n",
    "        df.drop(columns=drop_cols, inplace=True, errors='ignore')\n",
    "        df = df.query('notas != \"0\"')\n",
    "        df.notas = df.notas.replace(',', '.', regex=True).astype(np.float32)\n",
    "        df.porc_notas = df.porc_notas.astype(np.uint8)\n",
    "        for col in cols['pruebas'].keys():\n",
    "            if col in df.columns:\n",
    "                df[col] = df[col].fillna(0).astype(np.uint16)\n",
    "            else:\n",
    "                df[col] = 0\n",
    "                df[col] = df[col].astype(np.uint16)\n",
    "        modulos = set([\n",
    "            'ciencias_modulo_actual', 'ciencias_modulo_actual_inv',\n",
    "            'ciencias_modulo_anterior', 'ciencias_modulo_anterior_inv'\n",
    "        ])\n",
    "        for col in modulos.intersection(df.columns):\n",
    "                df[col] = df[col].fillna('NONE').astype('category')\n",
    "    elif kind == 'i':\n",
    "        df.rbd = df.rbd.fillna(0).astype(np.uint32)\n",
    "        df.cod = df.cod.fillna(0).astype(np.uint16)\n",
    "        df.grupo = df.grupo.fillna(0).astype(np.uint8)\n",
    "        df.regimen = df.regimen.fillna(0).astype(np.uint8)\n",
    "        df.bea = df.bea.apply(lambda x: 1 if x == 'BEA' else 0).astype(np.uint8)\n",
    "        df.pace = df.pace.apply(lambda x: 1 if x == 'PACE' else 0).astype(np.uint8)\n",
    "        df.percapita_familiar = (\n",
    "            df.percapita_familiar.apply(lambda x: 0 if x == 99 else x).astype(np.uint8)\n",
    "        )\n",
    "        df['promocion'] = df.situacion.isin([1, 2, 3, 4]).astype(np.uint8)\n",
    "        df.region = df.region.fillna(0).astype(np.uint8)\n",
    "        df.provincia = df.provincia.fillna(0).astype(np.uint8)\n",
    "        df.comuna = df.comuna.fillna(0).astype(np.uint16)\n",
    "        df.egreso = df.egreso.fillna(0).astype(np.uint16)\n",
    "        df.nacimiento = pd.to_datetime(df.nacimiento, format='%m%Y', errors='coerce')\n",
    "        df.rama = df.rama.fillna('SF').astype('category')\n",
    "        df['hc'] = df.rama.apply(lambda x: 1 if x[0] == 'H' else 0).astype(np.uint8)\n",
    "        drop_cols = [\n",
    "            'proceso', 'situacion', 'rindio', 'rindio_anterior'\n",
    "        ]\n",
    "        df.drop(columns=drop_cols, inplace=True, errors='ignore')\n",
    "    elif kind == 'p':\n",
    "        if year_id == 2023:\n",
    "            data = list()\n",
    "            for variant in ['', '_pace', '_bea']:\n",
    "                for i in range(1, 21):\n",
    "                    variant_cols = list()\n",
    "                    for prefix in ['cod_carrera', 'estado', 'ptje']:\n",
    "                        variant_cols.append(f'{prefix}_pref_{i:02}{variant}')\n",
    "                    variant_df = df[variant_cols].copy()\n",
    "                    variant_df.columns = ['carrera', 'estado', 'puntaje']\n",
    "                    variant_df['pref'] = i\n",
    "                    variant_df['tipo'] = variant[1:] if variant else 'general'\n",
    "                    data.append(variant_df)\n",
    "            df = pd.concat(data)\n",
    "        df.carrera = df.carrera.apply(lambda x: x if x != 0 else None)\n",
    "        df.dropna(subset=['carrera'], inplace=True)\n",
    "        df.puntaje = df.puntaje.apply(lambda x: x if x != 0 else None)\n",
    "        df.dropna(subset=['puntaje'], inplace=True)\n",
    "        df.carrera = df.carrera.astype(np.uint16)\n",
    "        df.estado = df.estado.astype(np.uint8)\n",
    "        df.puntaje = df.puntaje.astype(str).str.replace(',', '.', regex=False).astype(np.float32)\n",
    "        df.pref = df.pref.astype(np.uint8)\n",
    "        df.tipo = df.tipo.str.lower().astype('category')\n",
    "    df.reset_index(inplace=True)\n",
    "    df.index = df.index.astype(np.uint32)\n",
    "    df.year_id = df.year_id.astype(np.uint16)\n",
    "    return df"
   ]
  },
  {
   "cell_type": "code",
   "execution_count": 25,
   "metadata": {},
   "outputs": [],
   "source": [
    "paes = dict()\n",
    "kinds = ['inscripciones', 'resultados', 'postulaciones']\n",
    "for kind in kinds:\n",
    "    paes[kind[0]] = pd.concat([\n",
    "        paes_raw_to_intermediate(*load_raw_dataset(kind, year=year, verbose=False), kind=kind[0])\n",
    "        for year in range(2023, 2026)\n",
    "    ]).reset_index(drop=True)\n",
    "paes['p']['tipo'] = paes['p']['tipo'].astype('category')\n",
    "new_ids = (\n",
    "    pd.concat([paes[kind][['alumno_id']] for kind in 'irp'])\n",
    "    .drop_duplicates()\n",
    "    .set_index('alumno_id')\n",
    ")\n",
    "new_ids.index.name = 'old_alumno_id'\n",
    "new_ids['alumno_id'] = range(1, new_ids.shape[0]+1)\n",
    "for kind in [x[0] for x in kinds]:\n",
    "    paes[kind] = paes[kind].merge(new_ids, left_on='alumno_id', right_on='old_alumno_id')\n",
    "    paes[kind].drop(columns=['alumno_id_x'], inplace=True)\n",
    "    paes[kind].rename(columns={'alumno_id_y': 'alumno_id'}, inplace=True)\n",
    "    alumno_id = paes[kind].alumno_id\n",
    "    paes[kind].drop(columns='alumno_id', inplace=True)\n",
    "    paes[kind].insert(0, 'alumno_id', alumno_id)\n",
    "    paes[kind].alumno_id = paes[kind].alumno_id.astype(np.uint32)\n",
    "    if kind == 'p':\n",
    "        paes[kind].sort_values(['alumno_id', 'year_id', 'pref'], inplace=True)\n",
    "    else:\n",
    "        paes[kind].sort_values(['alumno_id', 'year_id'], inplace=True)"
   ]
  },
  {
   "cell_type": "code",
   "execution_count": 26,
   "metadata": {},
   "outputs": [],
   "source": [
    "os.makedirs(PRIMARY_DATABASES_DEMRE_OPEN_PATH, exist_ok=True)\n",
    "for kind in kinds:\n",
    "    paes[kind[0]].to_parquet(os.path.join(PRIMARY_DATABASES_DEMRE_OPEN_PATH, f'paes_{kind}.parquet'))"
   ]
  }
 ],
 "metadata": {
  "kernelspec": {
   "display_name": ".venv",
   "language": "python",
   "name": "python3"
  },
  "language_info": {
   "codemirror_mode": {
    "name": "ipython",
    "version": 3
   },
   "file_extension": ".py",
   "mimetype": "text/x-python",
   "name": "python",
   "nbconvert_exporter": "python",
   "pygments_lexer": "ipython3",
   "version": "3.12.3"
  }
 },
 "nbformat": 4,
 "nbformat_minor": 2
}
