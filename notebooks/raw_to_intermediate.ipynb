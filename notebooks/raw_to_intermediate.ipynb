{
 "cells": [
  {
   "cell_type": "code",
   "execution_count": 79,
   "metadata": {},
   "outputs": [],
   "source": [
    "import os\n",
    "import re\n",
    "\n",
    "import pandas as pd\n",
    "import numpy as np\n",
    "\n",
    "from datos_demre.params import RAW_FILES_DEMRE_OPEN_PATH, RAW_DICTIONARIES_DEMRE_OPEN_PATH"
   ]
  },
  {
   "cell_type": "code",
   "execution_count": 80,
   "metadata": {},
   "outputs": [],
   "source": [
    "DATABASES = ['inscripciones', 'resultados', 'postulaciones', 'matriculas']\n",
    "\n",
    "VERBOSE = True"
   ]
  },
  {
   "cell_type": "code",
   "execution_count": 81,
   "metadata": {},
   "outputs": [],
   "source": [
    "def load_raw_dataset(name: str, year: int, verbose=False) -> pd.DataFrame:\n",
    "    if name not in DATABASES:\n",
    "        raise ValueError(f'Invalid dataset name. Must be one of {DATABASES}.')\n",
    "    df = pd.read_csv(\n",
    "        os.path.join(RAW_FILES_DEMRE_OPEN_PATH, str(year), f'{name}.csv'), sep=';'\n",
    "    )\n",
    "    df.insert(0, 'year_id', year)\n",
    "    df.columns = (\n",
    "        df.columns\n",
    "        .str.replace(r'[ \\-]', '_', regex=True)\n",
    "        .str.lower()\n",
    "        .str.replace(r'_+', '_', regex=True)\n",
    "    )\n",
    "    df.set_index(df.id_aux.str.lstrip('id_').astype(np.int64), inplace=True)\n",
    "    df.drop(columns=['id_aux'], inplace=True)\n",
    "    numeric = df.select_dtypes(include=[np.number]).columns\n",
    "    for col in numeric:\n",
    "        uints = [np.uint8, np.uint16, np.uint32, np.uint64]\n",
    "        ints = [np.int8, np.int16, np.int32, np.int64]\n",
    "        for dtype in uints+ints:\n",
    "            if df[col].min() >= np.iinfo(dtype).min and df[col].max() < np.iinfo(dtype).max:\n",
    "                df[col] = df[col].astype(dtype, errors='ignore')\n",
    "                break\n",
    "    if verbose:\n",
    "        print(f'Loaded dataset {name} for year {year}.')\n",
    "        print(f'Rows: {df.shape[0]} | Columns: {df.shape[1]}')\n",
    "    ############################################################################\n",
    "    xlsx = pd.ExcelFile(\n",
    "        os.path.join(RAW_DICTIONARIES_DEMRE_OPEN_PATH, str(year), f'dict_{name}.xlsx')\n",
    "    )\n",
    "    df_d = {\n",
    "        re.sub(r'_+', '_', re.sub(r'[ \\-]', '_', sheet_name.lower())):\n",
    "            xlsx.parse(sheet_name) for sheet_name in xlsx.sheet_names\n",
    "    }\n",
    "    if verbose:\n",
    "        print(f'Dictionary: {df_d.keys()}')\n",
    "    for key, value in df_d.items():\n",
    "        df_d[key].dropna(how='all', inplace=True)\n",
    "        df_d[key].insert(0, 'year_id', year)\n",
    "        df_d[key].columns = (\n",
    "            df_d[key].columns\n",
    "            .str.replace(r'[ \\-]', '_', regex=True)\n",
    "            .str.lower()\n",
    "            .str.replace(r'_+', '_', regex=True)\n",
    "        )\n",
    "        if verbose:\n",
    "            print(f'\\t- {key}: {value.columns.tolist()}')\n",
    "    first_sheet_name = re.sub(r'_+', '_', re.sub(r'[ \\-]', '_', xlsx.sheet_names[0].lower()))\n",
    "    df_d[first_sheet_name]['variable'] = df_d[first_sheet_name]['variable'].ffill()\n",
    "    return df, df_d"
   ]
  },
  {
   "cell_type": "markdown",
   "metadata": {},
   "source": [
    "# 2004"
   ]
  },
  {
   "cell_type": "code",
   "execution_count": 82,
   "metadata": {},
   "outputs": [
    {
     "name": "stdout",
     "output_type": "stream",
     "text": [
      "Loaded dataset resultados for year 2004.\n",
      "Rows: 153982 | Columns: 12\n",
      "Dictionary: dict_keys(['rinden', 'anexo_comunasregiones'])\n",
      "\t- rinden: ['year_id', 'variable', 'descripción']\n",
      "\t- anexo_comunasregiones: ['year_id', 'reg', 'nombre_region', 'prov', 'nombre_provincia', 'com', 'nombre_comuna']\n"
     ]
    }
   ],
   "source": [
    "year = 2004\n",
    "# dfi, di = load_raw_dataset('inscripciones', year=year, verbose=VERBOSE)\n",
    "dfr, dr = load_raw_dataset('resultados', year=year, verbose=VERBOSE)\n",
    "# dfp, dp = load_raw_dataset('postulaciones', year=year, verbose=VERBOSE)\n",
    "# dfm, dm = load_raw_dataset('matriculas', year=year, verbose=VERBOSE)"
   ]
  },
  {
   "cell_type": "code",
   "execution_count": 83,
   "metadata": {},
   "outputs": [
    {
     "name": "stdout",
     "output_type": "stream",
     "text": [
      "<class 'pandas.core.frame.DataFrame'>\n",
      "Index: 153982 entries, 1160071115 to 999809975987\n",
      "Data columns (total 12 columns):\n",
      " #   Column             Non-Null Count   Dtype  \n",
      "---  ------             --------------   -----  \n",
      " 0   year_id            153982 non-null  uint16 \n",
      " 1   grupo_dependencia  153982 non-null  uint8  \n",
      " 2   rama               153982 non-null  object \n",
      " 3   situacion_egreso   153982 non-null  uint8  \n",
      " 4   codigo_region      153982 non-null  uint8  \n",
      " 5   codigo_comuna      152913 non-null  float64\n",
      " 6   leng_actual        153982 non-null  uint16 \n",
      " 7   mate_actual        153982 non-null  uint16 \n",
      " 8   hcso_actual        153982 non-null  uint16 \n",
      " 9   cien_actual        153982 non-null  uint16 \n",
      " 10  prom_notas         153982 non-null  uint8  \n",
      " 11  ptje_nem           153982 non-null  uint16 \n",
      "dtypes: float64(1), object(1), uint16(6), uint8(4)\n",
      "memory usage: 12.2 MB\n"
     ]
    },
    {
     "data": {
      "text/plain": [
       "(None,\n",
       " Index                1.174789\n",
       " year_id              0.293697\n",
       " grupo_dependencia    0.146849\n",
       " rama                 7.489283\n",
       " situacion_egreso     0.146849\n",
       " codigo_region        0.146849\n",
       " codigo_comuna        1.174789\n",
       " leng_actual          0.293697\n",
       " mate_actual          0.293697\n",
       " hcso_actual          0.293697\n",
       " cien_actual          0.293697\n",
       " prom_notas           0.146849\n",
       " ptje_nem             0.293697\n",
       " dtype: float64)"
      ]
     },
     "execution_count": 83,
     "metadata": {},
     "output_type": "execute_result"
    }
   ],
   "source": [
    "dfr.info(memory_usage='deep'), dfr.memory_usage(deep=True)/1024**2"
   ]
  },
  {
   "cell_type": "code",
   "execution_count": null,
   "metadata": {},
   "outputs": [],
   "source": []
  },
  {
   "cell_type": "markdown",
   "metadata": {},
   "source": [
    "# 2005"
   ]
  },
  {
   "cell_type": "code",
   "execution_count": 102,
   "metadata": {},
   "outputs": [
    {
     "name": "stdout",
     "output_type": "stream",
     "text": [
      "Loaded dataset resultados for year 2005.\n",
      "Rows: 169888 | Columns: 12\n",
      "Dictionary: dict_keys(['rinden', 'anexo_comunasregiones'])\n",
      "\t- rinden: ['year_id', 'variable', 'descripción']\n",
      "\t- anexo_comunasregiones: ['year_id', 'cr', 'nombre_region', 'cpr', 'nombre_provincia', 'c_com', 'nombre_comuna']\n"
     ]
    }
   ],
   "source": [
    "year = 2005\n",
    "# dfi, di = load_raw_dataset('inscripciones', year=year, verbose=VERBOSE)\n",
    "dfr, dr = load_raw_dataset('resultados', year=year, verbose=VERBOSE)\n",
    "# dfp, dp = load_raw_dataset('postulaciones', year=year, verbose=VERBOSE)\n",
    "# dfm, dm = load_raw_dataset('matriculas', year=year, verbose=VERBOSE)"
   ]
  },
  {
   "cell_type": "code",
   "execution_count": null,
   "metadata": {},
   "outputs": [],
   "source": []
  },
  {
   "cell_type": "code",
   "execution_count": null,
   "metadata": {},
   "outputs": [],
   "source": []
  },
  {
   "cell_type": "markdown",
   "metadata": {},
   "source": [
    "# 2006"
   ]
  },
  {
   "cell_type": "code",
   "execution_count": 86,
   "metadata": {},
   "outputs": [
    {
     "name": "stdout",
     "output_type": "stream",
     "text": [
      "Loaded dataset resultados for year 2006.\n",
      "Rows: 176778 | Columns: 12\n",
      "Dictionary: dict_keys(['rinden', 'anexo_comunasregiones'])\n",
      "\t- rinden: ['year_id', 'variable', 'descripción']\n",
      "\t- anexo_comunasregiones: ['year_id', 'cr', 'nombre_region', 'cpr', 'nombre_provincia', 'c_com', 'nombre_comuna']\n"
     ]
    }
   ],
   "source": [
    "year = 2006\n",
    "# dfi, di = load_raw_dataset('inscripciones', year=year, verbose=VERBOSE)\n",
    "dfr, dr = load_raw_dataset('resultados', year=year, verbose=VERBOSE)\n",
    "# dfp, dp = load_raw_dataset('postulaciones', year=year, verbose=VERBOSE)\n",
    "# dfm, dm = load_raw_dataset('matriculas', year=year, verbose=VERBOSE)"
   ]
  },
  {
   "cell_type": "code",
   "execution_count": null,
   "metadata": {},
   "outputs": [],
   "source": []
  },
  {
   "cell_type": "code",
   "execution_count": null,
   "metadata": {},
   "outputs": [],
   "source": []
  },
  {
   "cell_type": "markdown",
   "metadata": {},
   "source": [
    "# 2007"
   ]
  },
  {
   "cell_type": "code",
   "execution_count": 87,
   "metadata": {},
   "outputs": [
    {
     "name": "stdout",
     "output_type": "stream",
     "text": [
      "Loaded dataset resultados for year 2007.\n",
      "Rows: 212889 | Columns: 12\n",
      "Dictionary: dict_keys(['rinden', 'anexo_comunasregiones'])\n",
      "\t- rinden: ['year_id', 'variable', 'descripción']\n",
      "\t- anexo_comunasregiones: ['year_id', 'cr', 'nombre_region', 'cpr', 'nombre_provincia', 'c_com', 'nombre_comuna']\n"
     ]
    }
   ],
   "source": [
    "year = 2007\n",
    "# dfi, di = load_raw_dataset('inscripciones', year=year, verbose=VERBOSE)\n",
    "dfr, dr = load_raw_dataset('resultados', year=year, verbose=VERBOSE)\n",
    "# dfp, dp = load_raw_dataset('postulaciones', year=year, verbose=VERBOSE)\n",
    "# dfm, dm = load_raw_dataset('matriculas', year=year, verbose=VERBOSE)"
   ]
  },
  {
   "cell_type": "code",
   "execution_count": null,
   "metadata": {},
   "outputs": [],
   "source": []
  },
  {
   "cell_type": "markdown",
   "metadata": {},
   "source": [
    "# 2008"
   ]
  },
  {
   "cell_type": "code",
   "execution_count": 88,
   "metadata": {},
   "outputs": [
    {
     "name": "stdout",
     "output_type": "stream",
     "text": [
      "Loaded dataset resultados for year 2008.\n",
      "Rows: 218261 | Columns: 12\n",
      "Dictionary: dict_keys(['rinden', 'anexo_comunasregiones'])\n",
      "\t- rinden: ['year_id', 'variable', 'descripción']\n",
      "\t- anexo_comunasregiones: ['year_id', 'cr', 'reg_orden', 'cpr', 'prv_nombre', 'com', 'com_nombre']\n"
     ]
    }
   ],
   "source": [
    "year = 2008\n",
    "# dfi, di = load_raw_dataset('inscripciones', year=year, verbose=VERBOSE)\n",
    "dfr, dr = load_raw_dataset('resultados', year=year, verbose=VERBOSE)\n",
    "# dfp, dp = load_raw_dataset('postulaciones', year=year, verbose=VERBOSE)\n",
    "# dfm, dm = load_raw_dataset('matriculas', year=year, verbose=VERBOSE)"
   ]
  },
  {
   "cell_type": "code",
   "execution_count": null,
   "metadata": {},
   "outputs": [],
   "source": []
  },
  {
   "cell_type": "markdown",
   "metadata": {},
   "source": [
    "# 2009"
   ]
  },
  {
   "cell_type": "code",
   "execution_count": 89,
   "metadata": {},
   "outputs": [
    {
     "name": "stdout",
     "output_type": "stream",
     "text": [
      "Loaded dataset resultados for year 2009.\n",
      "Rows: 243809 | Columns: 12\n",
      "Dictionary: dict_keys(['rinden', 'anexo_comunasregiones'])\n",
      "\t- rinden: ['year_id', 'variable', 'descripción']\n",
      "\t- anexo_comunasregiones: ['year_id', 'cr', 'reg_orden', 'cpr', 'prv_nombre', 'com', 'com_nombre']\n"
     ]
    }
   ],
   "source": [
    "year = 2009\n",
    "# dfi, di = load_raw_dataset('inscripciones', year=year, verbose=VERBOSE)\n",
    "dfr, dr = load_raw_dataset('resultados', year=year, verbose=VERBOSE)\n",
    "# dfp, dp = load_raw_dataset('postulaciones', year=year, verbose=VERBOSE)\n",
    "# dfm, dm = load_raw_dataset('matriculas', year=year, verbose=VERBOSE)"
   ]
  },
  {
   "cell_type": "code",
   "execution_count": null,
   "metadata": {},
   "outputs": [],
   "source": []
  },
  {
   "cell_type": "markdown",
   "metadata": {},
   "source": [
    "# 2010"
   ]
  },
  {
   "cell_type": "code",
   "execution_count": 90,
   "metadata": {},
   "outputs": [
    {
     "name": "stdout",
     "output_type": "stream",
     "text": [
      "Loaded dataset resultados for year 2010.\n",
      "Rows: 253236 | Columns: 14\n",
      "Dictionary: dict_keys(['rinden', 'anexo_comunasregiones'])\n",
      "\t- rinden: ['year_id', 'variable', 'descripción']\n",
      "\t- anexo_comunasregiones: ['year_id', 'cr', 'reg_orden', 'cpr', 'prv_nombre', 'com', 'com_nombre']\n"
     ]
    }
   ],
   "source": [
    "year = 2010\n",
    "# dfi, di = load_raw_dataset('inscripciones', year=year, verbose=VERBOSE)\n",
    "dfr, dr = load_raw_dataset('resultados', year=year, verbose=VERBOSE)\n",
    "# dfp, dp = load_raw_dataset('postulaciones', year=year, verbose=VERBOSE)\n",
    "# dfm, dm = load_raw_dataset('matriculas', year=year, verbose=VERBOSE)"
   ]
  },
  {
   "cell_type": "code",
   "execution_count": null,
   "metadata": {},
   "outputs": [],
   "source": []
  },
  {
   "cell_type": "markdown",
   "metadata": {},
   "source": [
    "# 2011"
   ]
  },
  {
   "cell_type": "code",
   "execution_count": 91,
   "metadata": {},
   "outputs": [
    {
     "name": "stdout",
     "output_type": "stream",
     "text": [
      "Loaded dataset resultados for year 2011.\n",
      "Rows: 252402 | Columns: 14\n",
      "Dictionary: dict_keys(['rinden', 'anexo_comunasregiones'])\n",
      "\t- rinden: ['year_id', 'variable', 'descripción']\n",
      "\t- anexo_comunasregiones: ['year_id', 'cr', 'reg_orden', 'cpr', 'prv_nombre', 'com', 'com_nombre']\n"
     ]
    }
   ],
   "source": [
    "year = 2011\n",
    "# dfi, di = load_raw_dataset('inscripciones', year=year, verbose=VERBOSE)\n",
    "dfr, dr = load_raw_dataset('resultados', year=year, verbose=VERBOSE)\n",
    "# dfp, dp = load_raw_dataset('postulaciones', year=year, verbose=VERBOSE)\n",
    "# dfm, dm = load_raw_dataset('matriculas', year=year, verbose=VERBOSE)"
   ]
  },
  {
   "cell_type": "code",
   "execution_count": null,
   "metadata": {},
   "outputs": [],
   "source": []
  },
  {
   "cell_type": "markdown",
   "metadata": {},
   "source": [
    "# 2012"
   ]
  },
  {
   "cell_type": "code",
   "execution_count": 92,
   "metadata": {},
   "outputs": [
    {
     "name": "stdout",
     "output_type": "stream",
     "text": [
      "Loaded dataset resultados for year 2012.\n",
      "Rows: 242661 | Columns: 19\n",
      "Dictionary: dict_keys(['rinden', 'anexo_comunasregiones'])\n",
      "\t- rinden: ['year_id', 'variable', 'descripción']\n",
      "\t- anexo_comunasregiones: ['year_id', 'cr', 'reg_orden', 'cpr', 'prv_nombre', 'com', 'com_nombre']\n"
     ]
    }
   ],
   "source": [
    "year = 2012\n",
    "# dfi, di = load_raw_dataset('inscripciones', year=year, verbose=VERBOSE)\n",
    "dfr, dr = load_raw_dataset('resultados', year=year, verbose=VERBOSE)\n",
    "# dfp, dp = load_raw_dataset('postulaciones', year=year, verbose=VERBOSE)\n",
    "# dfm, dm = load_raw_dataset('matriculas', year=year, verbose=VERBOSE)"
   ]
  },
  {
   "cell_type": "code",
   "execution_count": null,
   "metadata": {},
   "outputs": [],
   "source": []
  },
  {
   "cell_type": "markdown",
   "metadata": {},
   "source": [
    "# 2013"
   ]
  },
  {
   "cell_type": "code",
   "execution_count": 93,
   "metadata": {},
   "outputs": [
    {
     "name": "stdout",
     "output_type": "stream",
     "text": [
      "Loaded dataset resultados for year 2013.\n",
      "Rows: 244707 | Columns: 20\n",
      "Dictionary: dict_keys(['rinden', 'anexo_comunasregiones'])\n",
      "\t- rinden: ['year_id', 'variable', 'descripción']\n",
      "\t- anexo_comunasregiones: ['year_id', 'cr', 'reg_orden', 'cpr', 'prv_nombre', 'com', 'com_nombre']\n"
     ]
    }
   ],
   "source": [
    "year = 2013\n",
    "# dfi, di = load_raw_dataset('inscripciones', year=year, verbose=VERBOSE)\n",
    "dfr, dr = load_raw_dataset('resultados', year=year, verbose=VERBOSE)\n",
    "# dfp, dp = load_raw_dataset('postulaciones', year=year, verbose=VERBOSE)\n",
    "# dfm, dm = load_raw_dataset('matriculas', year=year, verbose=VERBOSE)"
   ]
  },
  {
   "cell_type": "code",
   "execution_count": null,
   "metadata": {},
   "outputs": [],
   "source": []
  },
  {
   "cell_type": "markdown",
   "metadata": {},
   "source": [
    "# 2014"
   ]
  },
  {
   "cell_type": "code",
   "execution_count": 94,
   "metadata": {},
   "outputs": [
    {
     "name": "stdout",
     "output_type": "stream",
     "text": [
      "Loaded dataset resultados for year 2014.\n",
      "Rows: 243596 | Columns: 20\n",
      "Dictionary: dict_keys(['rinden', 'anexo_comunasregiones'])\n",
      "\t- rinden: ['year_id', 'variable', 'descripción']\n",
      "\t- anexo_comunasregiones: ['year_id', 'cr', 'reg_orden', 'cpr', 'prv_nombre', 'com', 'com_nombre']\n"
     ]
    }
   ],
   "source": [
    "year = 2014\n",
    "# dfi, di = load_raw_dataset('inscripciones', year=year, verbose=VERBOSE)\n",
    "dfr, dr = load_raw_dataset('resultados', year=year, verbose=VERBOSE)\n",
    "# dfp, dp = load_raw_dataset('postulaciones', year=year, verbose=VERBOSE)\n",
    "# dfm, dm = load_raw_dataset('matriculas', year=year, verbose=VERBOSE)"
   ]
  },
  {
   "cell_type": "code",
   "execution_count": null,
   "metadata": {},
   "outputs": [],
   "source": []
  },
  {
   "cell_type": "markdown",
   "metadata": {},
   "source": [
    "# 2015"
   ]
  },
  {
   "cell_type": "code",
   "execution_count": 95,
   "metadata": {},
   "outputs": [
    {
     "name": "stdout",
     "output_type": "stream",
     "text": [
      "Loaded dataset resultados for year 2015.\n",
      "Rows: 257852 | Columns: 20\n",
      "Dictionary: dict_keys(['rinden', 'anexo_comunasregiones'])\n",
      "\t- rinden: ['year_id', 'variable', 'descripción']\n",
      "\t- anexo_comunasregiones: ['year_id', 'cr', 'reg_orden', 'cpr', 'prv_nombre', 'com', 'com_nombre']\n"
     ]
    }
   ],
   "source": [
    "year = 2015\n",
    "# dfi, di = load_raw_dataset('inscripciones', year=year, verbose=VERBOSE)\n",
    "dfr, dr = load_raw_dataset('resultados', year=year, verbose=VERBOSE)\n",
    "# dfp, dp = load_raw_dataset('postulaciones', year=year, verbose=VERBOSE)\n",
    "# dfm, dm = load_raw_dataset('matriculas', year=year, verbose=VERBOSE)"
   ]
  },
  {
   "cell_type": "code",
   "execution_count": null,
   "metadata": {},
   "outputs": [],
   "source": []
  },
  {
   "cell_type": "markdown",
   "metadata": {},
   "source": [
    "# 2016"
   ]
  },
  {
   "cell_type": "code",
   "execution_count": 109,
   "metadata": {},
   "outputs": [
    {
     "name": "stdout",
     "output_type": "stream",
     "text": [
      "Loaded dataset resultados for year 2016.\n",
      "Rows: 266494 | Columns: 20\n",
      "Dictionary: dict_keys(['rinden', 'anexo_comunasregiones'])\n",
      "\t- rinden: ['year_id', 'variable', 'descripción']\n",
      "\t- anexo_comunasregiones: ['year_id', 'cr', 'reg_orden', 'cpr', 'prv_nombre', 'com', 'com_nombre']\n"
     ]
    }
   ],
   "source": [
    "year = 2016\n",
    "# dfi, di = load_raw_dataset('inscripciones', year=year, verbose=VERBOSE)\n",
    "dfr, dr = load_raw_dataset('resultados', year=year, verbose=VERBOSE)\n",
    "# dfp, dp = load_raw_dataset('postulaciones', year=year, verbose=VERBOSE)\n",
    "# dfm, dm = load_raw_dataset('matriculas', year=year, verbose=VERBOSE)"
   ]
  },
  {
   "cell_type": "code",
   "execution_count": 110,
   "metadata": {},
   "outputs": [
    {
     "data": {
      "text/html": [
       "<div>\n",
       "<style scoped>\n",
       "    .dataframe tbody tr th:only-of-type {\n",
       "        vertical-align: middle;\n",
       "    }\n",
       "\n",
       "    .dataframe tbody tr th {\n",
       "        vertical-align: top;\n",
       "    }\n",
       "\n",
       "    .dataframe thead th {\n",
       "        text-align: right;\n",
       "    }\n",
       "</style>\n",
       "<table border=\"1\" class=\"dataframe\">\n",
       "  <thead>\n",
       "    <tr style=\"text-align: right;\">\n",
       "      <th></th>\n",
       "      <th>year_id</th>\n",
       "      <th>rbd</th>\n",
       "      <th>grupo_dependencia</th>\n",
       "      <th>rama</th>\n",
       "      <th>situacion_egreso</th>\n",
       "      <th>codigo_region</th>\n",
       "      <th>codigo_comuna</th>\n",
       "      <th>leng_actual</th>\n",
       "      <th>mate_actual</th>\n",
       "      <th>hcso_actual</th>\n",
       "      <th>cien_actual</th>\n",
       "      <th>modulo_actual</th>\n",
       "      <th>leng_anterior</th>\n",
       "      <th>mate_anterior</th>\n",
       "      <th>hcso_anterior</th>\n",
       "      <th>cien_anterior</th>\n",
       "      <th>modulo_anterior</th>\n",
       "      <th>prom_notas</th>\n",
       "      <th>ptje_nem</th>\n",
       "      <th>ptje_ranking</th>\n",
       "    </tr>\n",
       "    <tr>\n",
       "      <th>id_aux</th>\n",
       "      <th></th>\n",
       "      <th></th>\n",
       "      <th></th>\n",
       "      <th></th>\n",
       "      <th></th>\n",
       "      <th></th>\n",
       "      <th></th>\n",
       "      <th></th>\n",
       "      <th></th>\n",
       "      <th></th>\n",
       "      <th></th>\n",
       "      <th></th>\n",
       "      <th></th>\n",
       "      <th></th>\n",
       "      <th></th>\n",
       "      <th></th>\n",
       "      <th></th>\n",
       "      <th></th>\n",
       "      <th></th>\n",
       "      <th></th>\n",
       "    </tr>\n",
       "  </thead>\n",
       "  <tbody>\n",
       "    <tr>\n",
       "      <th>900070029</th>\n",
       "      <td>2016</td>\n",
       "      <td>6897</td>\n",
       "      <td>3</td>\n",
       "      <td>H1</td>\n",
       "      <td>5</td>\n",
       "      <td>14</td>\n",
       "      <td>14103.0</td>\n",
       "      <td>394</td>\n",
       "      <td>244</td>\n",
       "      <td>270</td>\n",
       "      <td>0</td>\n",
       "      <td>NaN</td>\n",
       "      <td>0</td>\n",
       "      <td>0</td>\n",
       "      <td>0</td>\n",
       "      <td>0</td>\n",
       "      <td>NaN</td>\n",
       "      <td>530</td>\n",
       "      <td>476</td>\n",
       "      <td>481</td>\n",
       "    </tr>\n",
       "    <tr>\n",
       "      <th>900070053</th>\n",
       "      <td>2016</td>\n",
       "      <td>6897</td>\n",
       "      <td>3</td>\n",
       "      <td>H1</td>\n",
       "      <td>5</td>\n",
       "      <td>14</td>\n",
       "      <td>14103.0</td>\n",
       "      <td>567</td>\n",
       "      <td>539</td>\n",
       "      <td>0</td>\n",
       "      <td>583</td>\n",
       "      <td>BIO</td>\n",
       "      <td>0</td>\n",
       "      <td>0</td>\n",
       "      <td>0</td>\n",
       "      <td>0</td>\n",
       "      <td>NaN</td>\n",
       "      <td>543</td>\n",
       "      <td>502</td>\n",
       "      <td>507</td>\n",
       "    </tr>\n",
       "    <tr>\n",
       "      <th>900070059</th>\n",
       "      <td>2016</td>\n",
       "      <td>22634</td>\n",
       "      <td>2</td>\n",
       "      <td>H1</td>\n",
       "      <td>5</td>\n",
       "      <td>14</td>\n",
       "      <td>14101.0</td>\n",
       "      <td>514</td>\n",
       "      <td>342</td>\n",
       "      <td>421</td>\n",
       "      <td>0</td>\n",
       "      <td>NaN</td>\n",
       "      <td>0</td>\n",
       "      <td>0</td>\n",
       "      <td>0</td>\n",
       "      <td>0</td>\n",
       "      <td>NaN</td>\n",
       "      <td>520</td>\n",
       "      <td>455</td>\n",
       "      <td>455</td>\n",
       "    </tr>\n",
       "    <tr>\n",
       "      <th>900070070</th>\n",
       "      <td>2016</td>\n",
       "      <td>14299</td>\n",
       "      <td>2</td>\n",
       "      <td>H1</td>\n",
       "      <td>5</td>\n",
       "      <td>5</td>\n",
       "      <td>5801.0</td>\n",
       "      <td>507</td>\n",
       "      <td>532</td>\n",
       "      <td>0</td>\n",
       "      <td>515</td>\n",
       "      <td>BIO</td>\n",
       "      <td>0</td>\n",
       "      <td>0</td>\n",
       "      <td>0</td>\n",
       "      <td>0</td>\n",
       "      <td>NaN</td>\n",
       "      <td>520</td>\n",
       "      <td>455</td>\n",
       "      <td>455</td>\n",
       "    </tr>\n",
       "    <tr>\n",
       "      <th>900070075</th>\n",
       "      <td>2016</td>\n",
       "      <td>26061</td>\n",
       "      <td>2</td>\n",
       "      <td>H2</td>\n",
       "      <td>1</td>\n",
       "      <td>13</td>\n",
       "      <td>13128.0</td>\n",
       "      <td>385</td>\n",
       "      <td>425</td>\n",
       "      <td>356</td>\n",
       "      <td>0</td>\n",
       "      <td>NaN</td>\n",
       "      <td>0</td>\n",
       "      <td>0</td>\n",
       "      <td>0</td>\n",
       "      <td>0</td>\n",
       "      <td>NaN</td>\n",
       "      <td>567</td>\n",
       "      <td>555</td>\n",
       "      <td>588</td>\n",
       "    </tr>\n",
       "    <tr>\n",
       "      <th>...</th>\n",
       "      <td>...</td>\n",
       "      <td>...</td>\n",
       "      <td>...</td>\n",
       "      <td>...</td>\n",
       "      <td>...</td>\n",
       "      <td>...</td>\n",
       "      <td>...</td>\n",
       "      <td>...</td>\n",
       "      <td>...</td>\n",
       "      <td>...</td>\n",
       "      <td>...</td>\n",
       "      <td>...</td>\n",
       "      <td>...</td>\n",
       "      <td>...</td>\n",
       "      <td>...</td>\n",
       "      <td>...</td>\n",
       "      <td>...</td>\n",
       "      <td>...</td>\n",
       "      <td>...</td>\n",
       "      <td>...</td>\n",
       "    </tr>\n",
       "    <tr>\n",
       "      <th>9992599479234</th>\n",
       "      <td>2016</td>\n",
       "      <td>8488</td>\n",
       "      <td>3</td>\n",
       "      <td>H1</td>\n",
       "      <td>1</td>\n",
       "      <td>13</td>\n",
       "      <td>13101.0</td>\n",
       "      <td>439</td>\n",
       "      <td>406</td>\n",
       "      <td>458</td>\n",
       "      <td>539</td>\n",
       "      <td>BIO</td>\n",
       "      <td>0</td>\n",
       "      <td>0</td>\n",
       "      <td>0</td>\n",
       "      <td>0</td>\n",
       "      <td>NaN</td>\n",
       "      <td>615</td>\n",
       "      <td>651</td>\n",
       "      <td>705</td>\n",
       "    </tr>\n",
       "    <tr>\n",
       "      <th>9992999579254</th>\n",
       "      <td>2016</td>\n",
       "      <td>25557</td>\n",
       "      <td>2</td>\n",
       "      <td>H2</td>\n",
       "      <td>1</td>\n",
       "      <td>13</td>\n",
       "      <td>13401.0</td>\n",
       "      <td>465</td>\n",
       "      <td>458</td>\n",
       "      <td>469</td>\n",
       "      <td>0</td>\n",
       "      <td>NaN</td>\n",
       "      <td>0</td>\n",
       "      <td>0</td>\n",
       "      <td>0</td>\n",
       "      <td>0</td>\n",
       "      <td>NaN</td>\n",
       "      <td>580</td>\n",
       "      <td>582</td>\n",
       "      <td>654</td>\n",
       "    </tr>\n",
       "    <tr>\n",
       "      <th>9996599679690</th>\n",
       "      <td>2016</td>\n",
       "      <td>10313</td>\n",
       "      <td>2</td>\n",
       "      <td>H1</td>\n",
       "      <td>1</td>\n",
       "      <td>13</td>\n",
       "      <td>13127.0</td>\n",
       "      <td>416</td>\n",
       "      <td>364</td>\n",
       "      <td>374</td>\n",
       "      <td>407</td>\n",
       "      <td>BIO</td>\n",
       "      <td>0</td>\n",
       "      <td>0</td>\n",
       "      <td>0</td>\n",
       "      <td>0</td>\n",
       "      <td>NaN</td>\n",
       "      <td>605</td>\n",
       "      <td>631</td>\n",
       "      <td>764</td>\n",
       "    </tr>\n",
       "    <tr>\n",
       "      <th>9997599679773</th>\n",
       "      <td>2016</td>\n",
       "      <td>15745</td>\n",
       "      <td>2</td>\n",
       "      <td>H1</td>\n",
       "      <td>5</td>\n",
       "      <td>6</td>\n",
       "      <td>6301.0</td>\n",
       "      <td>493</td>\n",
       "      <td>406</td>\n",
       "      <td>0</td>\n",
       "      <td>391</td>\n",
       "      <td>BIO</td>\n",
       "      <td>0</td>\n",
       "      <td>0</td>\n",
       "      <td>0</td>\n",
       "      <td>0</td>\n",
       "      <td>NaN</td>\n",
       "      <td>558</td>\n",
       "      <td>534</td>\n",
       "      <td>532</td>\n",
       "    </tr>\n",
       "    <tr>\n",
       "      <th>9998599079880</th>\n",
       "      <td>2016</td>\n",
       "      <td>1756</td>\n",
       "      <td>2</td>\n",
       "      <td>H1</td>\n",
       "      <td>1</td>\n",
       "      <td>5</td>\n",
       "      <td>5109.0</td>\n",
       "      <td>431</td>\n",
       "      <td>507</td>\n",
       "      <td>0</td>\n",
       "      <td>361</td>\n",
       "      <td>BIO</td>\n",
       "      <td>0</td>\n",
       "      <td>0</td>\n",
       "      <td>0</td>\n",
       "      <td>0</td>\n",
       "      <td>NaN</td>\n",
       "      <td>553</td>\n",
       "      <td>523</td>\n",
       "      <td>524</td>\n",
       "    </tr>\n",
       "  </tbody>\n",
       "</table>\n",
       "<p>266494 rows × 20 columns</p>\n",
       "</div>"
      ],
      "text/plain": [
       "               year_id    rbd  grupo_dependencia rama  situacion_egreso  \\\n",
       "id_aux                                                                    \n",
       "900070029         2016   6897                  3   H1                 5   \n",
       "900070053         2016   6897                  3   H1                 5   \n",
       "900070059         2016  22634                  2   H1                 5   \n",
       "900070070         2016  14299                  2   H1                 5   \n",
       "900070075         2016  26061                  2   H2                 1   \n",
       "...                ...    ...                ...  ...               ...   \n",
       "9992599479234     2016   8488                  3   H1                 1   \n",
       "9992999579254     2016  25557                  2   H2                 1   \n",
       "9996599679690     2016  10313                  2   H1                 1   \n",
       "9997599679773     2016  15745                  2   H1                 5   \n",
       "9998599079880     2016   1756                  2   H1                 1   \n",
       "\n",
       "               codigo_region  codigo_comuna  leng_actual  mate_actual  \\\n",
       "id_aux                                                                  \n",
       "900070029                 14        14103.0          394          244   \n",
       "900070053                 14        14103.0          567          539   \n",
       "900070059                 14        14101.0          514          342   \n",
       "900070070                  5         5801.0          507          532   \n",
       "900070075                 13        13128.0          385          425   \n",
       "...                      ...            ...          ...          ...   \n",
       "9992599479234             13        13101.0          439          406   \n",
       "9992999579254             13        13401.0          465          458   \n",
       "9996599679690             13        13127.0          416          364   \n",
       "9997599679773              6         6301.0          493          406   \n",
       "9998599079880              5         5109.0          431          507   \n",
       "\n",
       "               hcso_actual  cien_actual modulo_actual  leng_anterior  \\\n",
       "id_aux                                                                 \n",
       "900070029              270            0           NaN              0   \n",
       "900070053                0          583           BIO              0   \n",
       "900070059              421            0           NaN              0   \n",
       "900070070                0          515           BIO              0   \n",
       "900070075              356            0           NaN              0   \n",
       "...                    ...          ...           ...            ...   \n",
       "9992599479234          458          539           BIO              0   \n",
       "9992999579254          469            0           NaN              0   \n",
       "9996599679690          374          407           BIO              0   \n",
       "9997599679773            0          391           BIO              0   \n",
       "9998599079880            0          361           BIO              0   \n",
       "\n",
       "               mate_anterior  hcso_anterior  cien_anterior modulo_anterior  \\\n",
       "id_aux                                                                       \n",
       "900070029                  0              0              0             NaN   \n",
       "900070053                  0              0              0             NaN   \n",
       "900070059                  0              0              0             NaN   \n",
       "900070070                  0              0              0             NaN   \n",
       "900070075                  0              0              0             NaN   \n",
       "...                      ...            ...            ...             ...   \n",
       "9992599479234              0              0              0             NaN   \n",
       "9992999579254              0              0              0             NaN   \n",
       "9996599679690              0              0              0             NaN   \n",
       "9997599679773              0              0              0             NaN   \n",
       "9998599079880              0              0              0             NaN   \n",
       "\n",
       "               prom_notas  ptje_nem  ptje_ranking  \n",
       "id_aux                                             \n",
       "900070029             530       476           481  \n",
       "900070053             543       502           507  \n",
       "900070059             520       455           455  \n",
       "900070070             520       455           455  \n",
       "900070075             567       555           588  \n",
       "...                   ...       ...           ...  \n",
       "9992599479234         615       651           705  \n",
       "9992999579254         580       582           654  \n",
       "9996599679690         605       631           764  \n",
       "9997599679773         558       534           532  \n",
       "9998599079880         553       523           524  \n",
       "\n",
       "[266494 rows x 20 columns]"
      ]
     },
     "execution_count": 110,
     "metadata": {},
     "output_type": "execute_result"
    }
   ],
   "source": [
    "dfr"
   ]
  },
  {
   "cell_type": "markdown",
   "metadata": {},
   "source": [
    "# 2017"
   ]
  },
  {
   "cell_type": "code",
   "execution_count": 97,
   "metadata": {},
   "outputs": [
    {
     "name": "stdout",
     "output_type": "stream",
     "text": [
      "Loaded dataset resultados for year 2017.\n",
      "Rows: 269351 | Columns: 23\n",
      "Dictionary: dict_keys(['rinden', 'anexo_cod_ens', 'anexo_comunasregiones'])\n",
      "\t- rinden: ['year_id', 'variable', 'descripción']\n",
      "\t- anexo_cod_ens: ['year_id', 'código', 'descripción']\n",
      "\t- anexo_comunasregiones: ['year_id', 'cr', 'reg_orden', 'cpr', 'prv_nombre', 'com', 'com_nombre']\n"
     ]
    }
   ],
   "source": [
    "year = 2017\n",
    "# dfi, di = load_raw_dataset('inscripciones', year=year, verbose=VERBOSE)\n",
    "dfr, dr = load_raw_dataset('resultados', year=year, verbose=VERBOSE)\n",
    "# dfp, dp = load_raw_dataset('postulaciones', year=year, verbose=VERBOSE)\n",
    "# dfm, dm = load_raw_dataset('matriculas', year=year, verbose=VERBOSE)"
   ]
  },
  {
   "cell_type": "code",
   "execution_count": null,
   "metadata": {},
   "outputs": [],
   "source": []
  },
  {
   "cell_type": "markdown",
   "metadata": {},
   "source": [
    "# 2018"
   ]
  },
  {
   "cell_type": "code",
   "execution_count": 98,
   "metadata": {},
   "outputs": [
    {
     "name": "stdout",
     "output_type": "stream",
     "text": [
      "Loaded dataset resultados for year 2018.\n",
      "Rows: 274498 | Columns: 25\n",
      "Dictionary: dict_keys(['rinden', 'anexo_cod_ens', 'anexo_comunasregiones'])\n",
      "\t- rinden: ['year_id', 'variable', 'descripción']\n",
      "\t- anexo_cod_ens: ['year_id', 'código', 'descripción']\n",
      "\t- anexo_comunasregiones: ['year_id', 'cr', 'reg_orden', 'cpr', 'prv_nombre', 'com', 'com_nombre']\n"
     ]
    }
   ],
   "source": [
    "year = 2018\n",
    "# dfi, di = load_raw_dataset('inscripciones', year=year, verbose=VERBOSE)\n",
    "dfr, dr = load_raw_dataset('resultados', year=year, verbose=VERBOSE)\n",
    "# dfp, dp = load_raw_dataset('postulaciones', year=year, verbose=VERBOSE)\n",
    "# dfm, dm = load_raw_dataset('matriculas', year=year, verbose=VERBOSE)"
   ]
  },
  {
   "cell_type": "code",
   "execution_count": null,
   "metadata": {},
   "outputs": [],
   "source": []
  },
  {
   "cell_type": "markdown",
   "metadata": {},
   "source": [
    "# 2019"
   ]
  },
  {
   "cell_type": "code",
   "execution_count": 104,
   "metadata": {},
   "outputs": [
    {
     "name": "stdout",
     "output_type": "stream",
     "text": [
      "Loaded dataset resultados for year 2019.\n",
      "Rows: 278287 | Columns: 25\n",
      "Dictionary: dict_keys(['rinden', 'anexo_cod_ens', 'anexo_comunasregiones'])\n",
      "\t- rinden: ['year_id', 'variable', 'descripción']\n",
      "\t- anexo_cod_ens: ['year_id', 'código', 'descripción']\n",
      "\t- anexo_comunasregiones: ['year_id', 'cod_reg.', 'region_nombre', 'cod.prv', 'prv_nombre', 'cod.comuna', 'com_nombre']\n"
     ]
    }
   ],
   "source": [
    "year = 2019\n",
    "# dfi, di = load_raw_dataset('inscripciones', year=year, verbose=VERBOSE)\n",
    "dfr, dr = load_raw_dataset('resultados', year=year, verbose=VERBOSE)\n",
    "# dfp, dp = load_raw_dataset('postulaciones', year=year, verbose=VERBOSE)\n",
    "# dfm, dm = load_raw_dataset('matriculas', year=year, verbose=VERBOSE)"
   ]
  },
  {
   "cell_type": "code",
   "execution_count": 108,
   "metadata": {},
   "outputs": [
    {
     "data": {
      "text/html": [
       "<div>\n",
       "<style scoped>\n",
       "    .dataframe tbody tr th:only-of-type {\n",
       "        vertical-align: middle;\n",
       "    }\n",
       "\n",
       "    .dataframe tbody tr th {\n",
       "        vertical-align: top;\n",
       "    }\n",
       "\n",
       "    .dataframe thead th {\n",
       "        text-align: right;\n",
       "    }\n",
       "</style>\n",
       "<table border=\"1\" class=\"dataframe\">\n",
       "  <thead>\n",
       "    <tr style=\"text-align: right;\">\n",
       "      <th></th>\n",
       "      <th>year_id</th>\n",
       "      <th>rbd</th>\n",
       "      <th>cod_ens</th>\n",
       "      <th>grupo_dependencia</th>\n",
       "      <th>rama_educacional</th>\n",
       "      <th>situacion_egreso</th>\n",
       "      <th>codigo_region</th>\n",
       "      <th>codigo_comuna</th>\n",
       "      <th>promedio_notas</th>\n",
       "      <th>ptje_nem</th>\n",
       "      <th>ptje_ranking</th>\n",
       "      <th>leng_actual</th>\n",
       "      <th>mate_actual</th>\n",
       "      <th>hcso_actual</th>\n",
       "      <th>cien_actual</th>\n",
       "      <th>modulo_actual</th>\n",
       "      <th>promedio_lm_actual</th>\n",
       "      <th>percentil_lm_actual</th>\n",
       "      <th>leng_anterior</th>\n",
       "      <th>mate_anterior</th>\n",
       "      <th>hcso_anterior</th>\n",
       "      <th>cien_anterior</th>\n",
       "      <th>modulo_anterior</th>\n",
       "      <th>promedio_lm_anterior</th>\n",
       "      <th>percentil_lm_anterior</th>\n",
       "    </tr>\n",
       "    <tr>\n",
       "      <th>id_aux</th>\n",
       "      <th></th>\n",
       "      <th></th>\n",
       "      <th></th>\n",
       "      <th></th>\n",
       "      <th></th>\n",
       "      <th></th>\n",
       "      <th></th>\n",
       "      <th></th>\n",
       "      <th></th>\n",
       "      <th></th>\n",
       "      <th></th>\n",
       "      <th></th>\n",
       "      <th></th>\n",
       "      <th></th>\n",
       "      <th></th>\n",
       "      <th></th>\n",
       "      <th></th>\n",
       "      <th></th>\n",
       "      <th></th>\n",
       "      <th></th>\n",
       "      <th></th>\n",
       "      <th></th>\n",
       "      <th></th>\n",
       "      <th></th>\n",
       "      <th></th>\n",
       "    </tr>\n",
       "  </thead>\n",
       "  <tbody>\n",
       "    <tr>\n",
       "      <th>900070019</th>\n",
       "      <td>2019</td>\n",
       "      <td>22388.0</td>\n",
       "      <td>363.0</td>\n",
       "      <td>2.0</td>\n",
       "      <td>H2</td>\n",
       "      <td>5.0</td>\n",
       "      <td>14.0</td>\n",
       "      <td>14101.0</td>\n",
       "      <td>6,33</td>\n",
       "      <td>691</td>\n",
       "      <td>731</td>\n",
       "      <td>572</td>\n",
       "      <td>0</td>\n",
       "      <td>0</td>\n",
       "      <td>0</td>\n",
       "      <td>NaN</td>\n",
       "      <td>0</td>\n",
       "      <td>0</td>\n",
       "      <td>0</td>\n",
       "      <td>0</td>\n",
       "      <td>0</td>\n",
       "      <td>0</td>\n",
       "      <td>NaN</td>\n",
       "      <td>0</td>\n",
       "      <td>0</td>\n",
       "    </tr>\n",
       "    <tr>\n",
       "      <th>900270084</th>\n",
       "      <td>2019</td>\n",
       "      <td>1.0</td>\n",
       "      <td>510.0</td>\n",
       "      <td>3.0</td>\n",
       "      <td>T2</td>\n",
       "      <td>5.0</td>\n",
       "      <td>15.0</td>\n",
       "      <td>15101.0</td>\n",
       "      <td>5,93</td>\n",
       "      <td>607</td>\n",
       "      <td>664</td>\n",
       "      <td>362</td>\n",
       "      <td>403</td>\n",
       "      <td>0</td>\n",
       "      <td>402</td>\n",
       "      <td>BIO</td>\n",
       "      <td>382,5</td>\n",
       "      <td>12</td>\n",
       "      <td>0</td>\n",
       "      <td>0</td>\n",
       "      <td>0</td>\n",
       "      <td>0</td>\n",
       "      <td>NaN</td>\n",
       "      <td>0</td>\n",
       "      <td>0</td>\n",
       "    </tr>\n",
       "    <tr>\n",
       "      <th>900370016</th>\n",
       "      <td>2019</td>\n",
       "      <td>14210.0</td>\n",
       "      <td>310.0</td>\n",
       "      <td>2.0</td>\n",
       "      <td>H1</td>\n",
       "      <td>5.0</td>\n",
       "      <td>5.0</td>\n",
       "      <td>5502.0</td>\n",
       "      <td>5,88</td>\n",
       "      <td>596</td>\n",
       "      <td>601</td>\n",
       "      <td>598</td>\n",
       "      <td>403</td>\n",
       "      <td>696</td>\n",
       "      <td>565</td>\n",
       "      <td>BIO</td>\n",
       "      <td>500,5</td>\n",
       "      <td>53</td>\n",
       "      <td>0</td>\n",
       "      <td>0</td>\n",
       "      <td>0</td>\n",
       "      <td>0</td>\n",
       "      <td>NaN</td>\n",
       "      <td>0</td>\n",
       "      <td>0</td>\n",
       "    </tr>\n",
       "    <tr>\n",
       "      <th>900370067</th>\n",
       "      <td>2019</td>\n",
       "      <td>1437.0</td>\n",
       "      <td>310.0</td>\n",
       "      <td>2.0</td>\n",
       "      <td>H1</td>\n",
       "      <td>5.0</td>\n",
       "      <td>5.0</td>\n",
       "      <td>5502.0</td>\n",
       "      <td>5,48</td>\n",
       "      <td>513</td>\n",
       "      <td>513</td>\n",
       "      <td>618</td>\n",
       "      <td>329</td>\n",
       "      <td>587</td>\n",
       "      <td>449</td>\n",
       "      <td>BIO</td>\n",
       "      <td>473,5</td>\n",
       "      <td>42</td>\n",
       "      <td>0</td>\n",
       "      <td>0</td>\n",
       "      <td>0</td>\n",
       "      <td>0</td>\n",
       "      <td>NaN</td>\n",
       "      <td>0</td>\n",
       "      <td>0</td>\n",
       "    </tr>\n",
       "    <tr>\n",
       "      <th>900370092</th>\n",
       "      <td>2019</td>\n",
       "      <td>1422.0</td>\n",
       "      <td>363.0</td>\n",
       "      <td>3.0</td>\n",
       "      <td>H2</td>\n",
       "      <td>1.0</td>\n",
       "      <td>5.0</td>\n",
       "      <td>5502.0</td>\n",
       "      <td>5,05</td>\n",
       "      <td>426</td>\n",
       "      <td>426</td>\n",
       "      <td>380</td>\n",
       "      <td>446</td>\n",
       "      <td>336</td>\n",
       "      <td>367</td>\n",
       "      <td>QUI</td>\n",
       "      <td>413</td>\n",
       "      <td>20</td>\n",
       "      <td>0</td>\n",
       "      <td>0</td>\n",
       "      <td>0</td>\n",
       "      <td>0</td>\n",
       "      <td>NaN</td>\n",
       "      <td>0</td>\n",
       "      <td>0</td>\n",
       "    </tr>\n",
       "    <tr>\n",
       "      <th>...</th>\n",
       "      <td>...</td>\n",
       "      <td>...</td>\n",
       "      <td>...</td>\n",
       "      <td>...</td>\n",
       "      <td>...</td>\n",
       "      <td>...</td>\n",
       "      <td>...</td>\n",
       "      <td>...</td>\n",
       "      <td>...</td>\n",
       "      <td>...</td>\n",
       "      <td>...</td>\n",
       "      <td>...</td>\n",
       "      <td>...</td>\n",
       "      <td>...</td>\n",
       "      <td>...</td>\n",
       "      <td>...</td>\n",
       "      <td>...</td>\n",
       "      <td>...</td>\n",
       "      <td>...</td>\n",
       "      <td>...</td>\n",
       "      <td>...</td>\n",
       "      <td>...</td>\n",
       "      <td>...</td>\n",
       "      <td>...</td>\n",
       "      <td>...</td>\n",
       "    </tr>\n",
       "    <tr>\n",
       "      <th>9996599179618</th>\n",
       "      <td>2019</td>\n",
       "      <td>5567.0</td>\n",
       "      <td>510.0</td>\n",
       "      <td>3.0</td>\n",
       "      <td>T2</td>\n",
       "      <td>1.0</td>\n",
       "      <td>9.0</td>\n",
       "      <td>9101.0</td>\n",
       "      <td>5,88</td>\n",
       "      <td>597</td>\n",
       "      <td>776</td>\n",
       "      <td>309</td>\n",
       "      <td>426</td>\n",
       "      <td>446</td>\n",
       "      <td>463</td>\n",
       "      <td>BIO</td>\n",
       "      <td>367,5</td>\n",
       "      <td>9</td>\n",
       "      <td>0</td>\n",
       "      <td>0</td>\n",
       "      <td>0</td>\n",
       "      <td>0</td>\n",
       "      <td>NaN</td>\n",
       "      <td>0</td>\n",
       "      <td>0</td>\n",
       "    </tr>\n",
       "    <tr>\n",
       "      <th>9997599679743</th>\n",
       "      <td>2019</td>\n",
       "      <td>8938.0</td>\n",
       "      <td>610.0</td>\n",
       "      <td>2.0</td>\n",
       "      <td>T3</td>\n",
       "      <td>1.0</td>\n",
       "      <td>13.0</td>\n",
       "      <td>13123.0</td>\n",
       "      <td>6</td>\n",
       "      <td>622</td>\n",
       "      <td>693</td>\n",
       "      <td>517</td>\n",
       "      <td>567</td>\n",
       "      <td>354</td>\n",
       "      <td>0</td>\n",
       "      <td>NaN</td>\n",
       "      <td>542</td>\n",
       "      <td>67</td>\n",
       "      <td>0</td>\n",
       "      <td>0</td>\n",
       "      <td>0</td>\n",
       "      <td>0</td>\n",
       "      <td>NaN</td>\n",
       "      <td>0</td>\n",
       "      <td>0</td>\n",
       "    </tr>\n",
       "    <tr>\n",
       "      <th>9997599779750</th>\n",
       "      <td>2019</td>\n",
       "      <td>10970.0</td>\n",
       "      <td>410.0</td>\n",
       "      <td>3.0</td>\n",
       "      <td>T1</td>\n",
       "      <td>1.0</td>\n",
       "      <td>2.0</td>\n",
       "      <td>2201.0</td>\n",
       "      <td>5,95</td>\n",
       "      <td>612</td>\n",
       "      <td>657</td>\n",
       "      <td>517</td>\n",
       "      <td>355</td>\n",
       "      <td>526</td>\n",
       "      <td>0</td>\n",
       "      <td>NaN</td>\n",
       "      <td>436</td>\n",
       "      <td>28</td>\n",
       "      <td>0</td>\n",
       "      <td>0</td>\n",
       "      <td>0</td>\n",
       "      <td>0</td>\n",
       "      <td>NaN</td>\n",
       "      <td>0</td>\n",
       "      <td>0</td>\n",
       "    </tr>\n",
       "    <tr>\n",
       "      <th>9997939341287</th>\n",
       "      <td>2019</td>\n",
       "      <td>10663.0</td>\n",
       "      <td>310.0</td>\n",
       "      <td>3.0</td>\n",
       "      <td>H1</td>\n",
       "      <td>1.0</td>\n",
       "      <td>13.0</td>\n",
       "      <td>13404.0</td>\n",
       "      <td>6,3</td>\n",
       "      <td>685</td>\n",
       "      <td>697</td>\n",
       "      <td>372</td>\n",
       "      <td>426</td>\n",
       "      <td>0</td>\n",
       "      <td>463</td>\n",
       "      <td>BIO</td>\n",
       "      <td>399</td>\n",
       "      <td>16</td>\n",
       "      <td>0</td>\n",
       "      <td>0</td>\n",
       "      <td>0</td>\n",
       "      <td>0</td>\n",
       "      <td>NaN</td>\n",
       "      <td>0</td>\n",
       "      <td>0</td>\n",
       "    </tr>\n",
       "    <tr>\n",
       "      <th>9998599379869</th>\n",
       "      <td>2019</td>\n",
       "      <td>5084.0</td>\n",
       "      <td>310.0</td>\n",
       "      <td>3.0</td>\n",
       "      <td>H1</td>\n",
       "      <td>1.0</td>\n",
       "      <td>8.0</td>\n",
       "      <td>8205.0</td>\n",
       "      <td>5,83</td>\n",
       "      <td>586</td>\n",
       "      <td>586</td>\n",
       "      <td>422</td>\n",
       "      <td>535</td>\n",
       "      <td>0</td>\n",
       "      <td>0</td>\n",
       "      <td>NaN</td>\n",
       "      <td>478,5</td>\n",
       "      <td>44</td>\n",
       "      <td>0</td>\n",
       "      <td>0</td>\n",
       "      <td>0</td>\n",
       "      <td>0</td>\n",
       "      <td>NaN</td>\n",
       "      <td>0</td>\n",
       "      <td>0</td>\n",
       "    </tr>\n",
       "  </tbody>\n",
       "</table>\n",
       "<p>278287 rows × 25 columns</p>\n",
       "</div>"
      ],
      "text/plain": [
       "               year_id      rbd  cod_ens  grupo_dependencia rama_educacional  \\\n",
       "id_aux                                                                         \n",
       "900070019         2019  22388.0    363.0                2.0               H2   \n",
       "900270084         2019      1.0    510.0                3.0               T2   \n",
       "900370016         2019  14210.0    310.0                2.0               H1   \n",
       "900370067         2019   1437.0    310.0                2.0               H1   \n",
       "900370092         2019   1422.0    363.0                3.0               H2   \n",
       "...                ...      ...      ...                ...              ...   \n",
       "9996599179618     2019   5567.0    510.0                3.0               T2   \n",
       "9997599679743     2019   8938.0    610.0                2.0               T3   \n",
       "9997599779750     2019  10970.0    410.0                3.0               T1   \n",
       "9997939341287     2019  10663.0    310.0                3.0               H1   \n",
       "9998599379869     2019   5084.0    310.0                3.0               H1   \n",
       "\n",
       "               situacion_egreso  codigo_region  codigo_comuna promedio_notas  \\\n",
       "id_aux                                                                         \n",
       "900070019                   5.0           14.0        14101.0           6,33   \n",
       "900270084                   5.0           15.0        15101.0           5,93   \n",
       "900370016                   5.0            5.0         5502.0           5,88   \n",
       "900370067                   5.0            5.0         5502.0           5,48   \n",
       "900370092                   1.0            5.0         5502.0           5,05   \n",
       "...                         ...            ...            ...            ...   \n",
       "9996599179618               1.0            9.0         9101.0           5,88   \n",
       "9997599679743               1.0           13.0        13123.0              6   \n",
       "9997599779750               1.0            2.0         2201.0           5,95   \n",
       "9997939341287               1.0           13.0        13404.0            6,3   \n",
       "9998599379869               1.0            8.0         8205.0           5,83   \n",
       "\n",
       "               ptje_nem  ptje_ranking  leng_actual  mate_actual  hcso_actual  \\\n",
       "id_aux                                                                         \n",
       "900070019           691           731          572            0            0   \n",
       "900270084           607           664          362          403            0   \n",
       "900370016           596           601          598          403          696   \n",
       "900370067           513           513          618          329          587   \n",
       "900370092           426           426          380          446          336   \n",
       "...                 ...           ...          ...          ...          ...   \n",
       "9996599179618       597           776          309          426          446   \n",
       "9997599679743       622           693          517          567          354   \n",
       "9997599779750       612           657          517          355          526   \n",
       "9997939341287       685           697          372          426            0   \n",
       "9998599379869       586           586          422          535            0   \n",
       "\n",
       "               cien_actual modulo_actual promedio_lm_actual  \\\n",
       "id_aux                                                        \n",
       "900070019                0           NaN                  0   \n",
       "900270084              402           BIO              382,5   \n",
       "900370016              565           BIO              500,5   \n",
       "900370067              449           BIO              473,5   \n",
       "900370092              367           QUI                413   \n",
       "...                    ...           ...                ...   \n",
       "9996599179618          463           BIO              367,5   \n",
       "9997599679743            0           NaN                542   \n",
       "9997599779750            0           NaN                436   \n",
       "9997939341287          463           BIO                399   \n",
       "9998599379869            0           NaN              478,5   \n",
       "\n",
       "               percentil_lm_actual  leng_anterior  mate_anterior  \\\n",
       "id_aux                                                             \n",
       "900070019                        0              0              0   \n",
       "900270084                       12              0              0   \n",
       "900370016                       53              0              0   \n",
       "900370067                       42              0              0   \n",
       "900370092                       20              0              0   \n",
       "...                            ...            ...            ...   \n",
       "9996599179618                    9              0              0   \n",
       "9997599679743                   67              0              0   \n",
       "9997599779750                   28              0              0   \n",
       "9997939341287                   16              0              0   \n",
       "9998599379869                   44              0              0   \n",
       "\n",
       "               hcso_anterior  cien_anterior modulo_anterior  \\\n",
       "id_aux                                                        \n",
       "900070019                  0              0             NaN   \n",
       "900270084                  0              0             NaN   \n",
       "900370016                  0              0             NaN   \n",
       "900370067                  0              0             NaN   \n",
       "900370092                  0              0             NaN   \n",
       "...                      ...            ...             ...   \n",
       "9996599179618              0              0             NaN   \n",
       "9997599679743              0              0             NaN   \n",
       "9997599779750              0              0             NaN   \n",
       "9997939341287              0              0             NaN   \n",
       "9998599379869              0              0             NaN   \n",
       "\n",
       "              promedio_lm_anterior  percentil_lm_anterior  \n",
       "id_aux                                                     \n",
       "900070019                        0                      0  \n",
       "900270084                        0                      0  \n",
       "900370016                        0                      0  \n",
       "900370067                        0                      0  \n",
       "900370092                        0                      0  \n",
       "...                            ...                    ...  \n",
       "9996599179618                    0                      0  \n",
       "9997599679743                    0                      0  \n",
       "9997599779750                    0                      0  \n",
       "9997939341287                    0                      0  \n",
       "9998599379869                    0                      0  \n",
       "\n",
       "[278287 rows x 25 columns]"
      ]
     },
     "execution_count": 108,
     "metadata": {},
     "output_type": "execute_result"
    }
   ],
   "source": [
    "dfr"
   ]
  },
  {
   "cell_type": "code",
   "execution_count": 106,
   "metadata": {},
   "outputs": [
    {
     "name": "stdout",
     "output_type": "stream",
     "text": [
      "<class 'pandas.core.frame.DataFrame'>\n",
      "Index: 278287 entries, 900070019 to 9998599379869\n",
      "Data columns (total 25 columns):\n",
      " #   Column                 Non-Null Count   Dtype  \n",
      "---  ------                 --------------   -----  \n",
      " 0   year_id                278287 non-null  uint16 \n",
      " 1   rbd                    274987 non-null  float64\n",
      " 2   cod_ens                274987 non-null  float64\n",
      " 3   grupo_dependencia      274987 non-null  float64\n",
      " 4   rama_educacional       274987 non-null  object \n",
      " 5   situacion_egreso       278286 non-null  float64\n",
      " 6   codigo_region          277208 non-null  float64\n",
      " 7   codigo_comuna          274987 non-null  float64\n",
      " 8   promedio_notas         278287 non-null  object \n",
      " 9   ptje_nem               278287 non-null  uint16 \n",
      " 10  ptje_ranking           278287 non-null  uint16 \n",
      " 11  leng_actual            278287 non-null  uint16 \n",
      " 12  mate_actual            278287 non-null  uint16 \n",
      " 13  hcso_actual            278287 non-null  uint16 \n",
      " 14  cien_actual            278287 non-null  uint16 \n",
      " 15  modulo_actual          161319 non-null  object \n",
      " 16  promedio_lm_actual     278287 non-null  object \n",
      " 17  percentil_lm_actual    278287 non-null  uint8  \n",
      " 18  leng_anterior          278287 non-null  uint16 \n",
      " 19  mate_anterior          278287 non-null  uint16 \n",
      " 20  hcso_anterior          278287 non-null  uint16 \n",
      " 21  cien_anterior          278287 non-null  uint16 \n",
      " 22  modulo_anterior        31352 non-null   object \n",
      " 23  promedio_lm_anterior   278287 non-null  object \n",
      " 24  percentil_lm_anterior  278287 non-null  uint8  \n",
      "dtypes: float64(6), object(6), uint16(11), uint8(2)\n",
      "memory usage: 96.8 MB\n"
     ]
    },
    {
     "data": {
      "text/plain": [
       "(None,\n",
       " Index                     2.123161\n",
       " year_id                   0.530790\n",
       " rbd                       2.123161\n",
       " cod_ens                   2.123161\n",
       " grupo_dependencia         2.123161\n",
       " rama_educacional         13.475358\n",
       " situacion_egreso          2.123161\n",
       " codigo_region             2.123161\n",
       " codigo_comuna             2.123161\n",
       " promedio_notas           13.977691\n",
       " ptje_nem                  0.530790\n",
       " ptje_ranking              0.530790\n",
       " leng_actual               0.530790\n",
       " mate_actual               0.530790\n",
       " hcso_actual               0.530790\n",
       " cien_actual               0.530790\n",
       " modulo_actual            11.569561\n",
       " promedio_lm_actual       14.020638\n",
       " percentil_lm_actual       0.265395\n",
       " leng_anterior             0.530790\n",
       " mate_anterior             0.530790\n",
       " hcso_anterior             0.530790\n",
       " cien_anterior             0.530790\n",
       " modulo_anterior           9.090637\n",
       " promedio_lm_anterior     13.392700\n",
       " percentil_lm_anterior     0.265395\n",
       " dtype: float64)"
      ]
     },
     "execution_count": 106,
     "metadata": {},
     "output_type": "execute_result"
    }
   ],
   "source": [
    "dfr.info(memory_usage='deep'), dfr.memory_usage(deep=True)/1024**2"
   ]
  },
  {
   "cell_type": "code",
   "execution_count": null,
   "metadata": {},
   "outputs": [],
   "source": []
  },
  {
   "cell_type": "markdown",
   "metadata": {},
   "source": [
    "# 2020"
   ]
  },
  {
   "cell_type": "code",
   "execution_count": 100,
   "metadata": {},
   "outputs": [
    {
     "ename": "ValueError",
     "evalue": "invalid literal for int() with base 10: '.9+85.97e+83'",
     "output_type": "error",
     "traceback": [
      "\u001b[0;31m---------------------------------------------------------------------------\u001b[0m",
      "\u001b[0;31mValueError\u001b[0m                                Traceback (most recent call last)",
      "Cell \u001b[0;32mIn[100], line 3\u001b[0m\n\u001b[1;32m      1\u001b[0m year \u001b[38;5;241m=\u001b[39m \u001b[38;5;241m2020\u001b[39m\n\u001b[1;32m      2\u001b[0m \u001b[38;5;66;03m# dfi, di = load_raw_dataset('inscripciones', year=year, verbose=VERBOSE)\u001b[39;00m\n\u001b[0;32m----> 3\u001b[0m dfr, dr \u001b[38;5;241m=\u001b[39m \u001b[43mload_raw_dataset\u001b[49m\u001b[43m(\u001b[49m\u001b[38;5;124;43m'\u001b[39;49m\u001b[38;5;124;43mresultados\u001b[39;49m\u001b[38;5;124;43m'\u001b[39;49m\u001b[43m,\u001b[49m\u001b[43m \u001b[49m\u001b[43myear\u001b[49m\u001b[38;5;241;43m=\u001b[39;49m\u001b[43myear\u001b[49m\u001b[43m,\u001b[49m\u001b[43m \u001b[49m\u001b[43mverbose\u001b[49m\u001b[38;5;241;43m=\u001b[39;49m\u001b[43mVERBOSE\u001b[49m\u001b[43m)\u001b[49m\n\u001b[1;32m      4\u001b[0m \u001b[38;5;66;03m# dfp, dp = load_raw_dataset('postulaciones', year=year, verbose=VERBOSE)\u001b[39;00m\n\u001b[1;32m      5\u001b[0m \u001b[38;5;66;03m# dfm, dm = load_raw_dataset('matriculas', year=year, verbose=VERBOSE)\u001b[39;00m\n",
      "Cell \u001b[0;32mIn[81], line 14\u001b[0m, in \u001b[0;36mload_raw_dataset\u001b[0;34m(name, year, verbose)\u001b[0m\n\u001b[1;32m      7\u001b[0m df\u001b[38;5;241m.\u001b[39minsert(\u001b[38;5;241m0\u001b[39m, \u001b[38;5;124m'\u001b[39m\u001b[38;5;124myear_id\u001b[39m\u001b[38;5;124m'\u001b[39m, year)\n\u001b[1;32m      8\u001b[0m df\u001b[38;5;241m.\u001b[39mcolumns \u001b[38;5;241m=\u001b[39m (\n\u001b[1;32m      9\u001b[0m     df\u001b[38;5;241m.\u001b[39mcolumns\n\u001b[1;32m     10\u001b[0m     \u001b[38;5;241m.\u001b[39mstr\u001b[38;5;241m.\u001b[39mreplace(\u001b[38;5;124mr\u001b[39m\u001b[38;5;124m'\u001b[39m\u001b[38;5;124m[ \u001b[39m\u001b[38;5;124m\\\u001b[39m\u001b[38;5;124m-]\u001b[39m\u001b[38;5;124m'\u001b[39m, \u001b[38;5;124m'\u001b[39m\u001b[38;5;124m_\u001b[39m\u001b[38;5;124m'\u001b[39m, regex\u001b[38;5;241m=\u001b[39m\u001b[38;5;28;01mTrue\u001b[39;00m)\n\u001b[1;32m     11\u001b[0m     \u001b[38;5;241m.\u001b[39mstr\u001b[38;5;241m.\u001b[39mlower()\n\u001b[1;32m     12\u001b[0m     \u001b[38;5;241m.\u001b[39mstr\u001b[38;5;241m.\u001b[39mreplace(\u001b[38;5;124mr\u001b[39m\u001b[38;5;124m'\u001b[39m\u001b[38;5;124m_+\u001b[39m\u001b[38;5;124m'\u001b[39m, \u001b[38;5;124m'\u001b[39m\u001b[38;5;124m_\u001b[39m\u001b[38;5;124m'\u001b[39m, regex\u001b[38;5;241m=\u001b[39m\u001b[38;5;28;01mTrue\u001b[39;00m)\n\u001b[1;32m     13\u001b[0m )\n\u001b[0;32m---> 14\u001b[0m df\u001b[38;5;241m.\u001b[39mset_index(\u001b[43mdf\u001b[49m\u001b[38;5;241;43m.\u001b[39;49m\u001b[43mid_aux\u001b[49m\u001b[38;5;241;43m.\u001b[39;49m\u001b[43mstr\u001b[49m\u001b[38;5;241;43m.\u001b[39;49m\u001b[43mlstrip\u001b[49m\u001b[43m(\u001b[49m\u001b[38;5;124;43m'\u001b[39;49m\u001b[38;5;124;43mid_\u001b[39;49m\u001b[38;5;124;43m'\u001b[39;49m\u001b[43m)\u001b[49m\u001b[38;5;241;43m.\u001b[39;49m\u001b[43mastype\u001b[49m\u001b[43m(\u001b[49m\u001b[43mnp\u001b[49m\u001b[38;5;241;43m.\u001b[39;49m\u001b[43mint64\u001b[49m\u001b[43m)\u001b[49m, inplace\u001b[38;5;241m=\u001b[39m\u001b[38;5;28;01mTrue\u001b[39;00m)\n\u001b[1;32m     15\u001b[0m df\u001b[38;5;241m.\u001b[39mdrop(columns\u001b[38;5;241m=\u001b[39m[\u001b[38;5;124m'\u001b[39m\u001b[38;5;124mid_aux\u001b[39m\u001b[38;5;124m'\u001b[39m], inplace\u001b[38;5;241m=\u001b[39m\u001b[38;5;28;01mTrue\u001b[39;00m)\n\u001b[1;32m     16\u001b[0m numeric \u001b[38;5;241m=\u001b[39m df\u001b[38;5;241m.\u001b[39mselect_dtypes(include\u001b[38;5;241m=\u001b[39m[np\u001b[38;5;241m.\u001b[39mnumber])\u001b[38;5;241m.\u001b[39mcolumns\n",
      "File \u001b[0;32m~/Desktop/Building/Portfolio/datos-demre/.venv/lib/python3.12/site-packages/pandas/core/generic.py:6643\u001b[0m, in \u001b[0;36mNDFrame.astype\u001b[0;34m(self, dtype, copy, errors)\u001b[0m\n\u001b[1;32m   6637\u001b[0m     results \u001b[38;5;241m=\u001b[39m [\n\u001b[1;32m   6638\u001b[0m         ser\u001b[38;5;241m.\u001b[39mastype(dtype, copy\u001b[38;5;241m=\u001b[39mcopy, errors\u001b[38;5;241m=\u001b[39merrors) \u001b[38;5;28;01mfor\u001b[39;00m _, ser \u001b[38;5;129;01min\u001b[39;00m \u001b[38;5;28mself\u001b[39m\u001b[38;5;241m.\u001b[39mitems()\n\u001b[1;32m   6639\u001b[0m     ]\n\u001b[1;32m   6641\u001b[0m \u001b[38;5;28;01melse\u001b[39;00m:\n\u001b[1;32m   6642\u001b[0m     \u001b[38;5;66;03m# else, only a single dtype is given\u001b[39;00m\n\u001b[0;32m-> 6643\u001b[0m     new_data \u001b[38;5;241m=\u001b[39m \u001b[38;5;28;43mself\u001b[39;49m\u001b[38;5;241;43m.\u001b[39;49m\u001b[43m_mgr\u001b[49m\u001b[38;5;241;43m.\u001b[39;49m\u001b[43mastype\u001b[49m\u001b[43m(\u001b[49m\u001b[43mdtype\u001b[49m\u001b[38;5;241;43m=\u001b[39;49m\u001b[43mdtype\u001b[49m\u001b[43m,\u001b[49m\u001b[43m \u001b[49m\u001b[43mcopy\u001b[49m\u001b[38;5;241;43m=\u001b[39;49m\u001b[43mcopy\u001b[49m\u001b[43m,\u001b[49m\u001b[43m \u001b[49m\u001b[43merrors\u001b[49m\u001b[38;5;241;43m=\u001b[39;49m\u001b[43merrors\u001b[49m\u001b[43m)\u001b[49m\n\u001b[1;32m   6644\u001b[0m     res \u001b[38;5;241m=\u001b[39m \u001b[38;5;28mself\u001b[39m\u001b[38;5;241m.\u001b[39m_constructor_from_mgr(new_data, axes\u001b[38;5;241m=\u001b[39mnew_data\u001b[38;5;241m.\u001b[39maxes)\n\u001b[1;32m   6645\u001b[0m     \u001b[38;5;28;01mreturn\u001b[39;00m res\u001b[38;5;241m.\u001b[39m__finalize__(\u001b[38;5;28mself\u001b[39m, method\u001b[38;5;241m=\u001b[39m\u001b[38;5;124m\"\u001b[39m\u001b[38;5;124mastype\u001b[39m\u001b[38;5;124m\"\u001b[39m)\n",
      "File \u001b[0;32m~/Desktop/Building/Portfolio/datos-demre/.venv/lib/python3.12/site-packages/pandas/core/internals/managers.py:430\u001b[0m, in \u001b[0;36mBaseBlockManager.astype\u001b[0;34m(self, dtype, copy, errors)\u001b[0m\n\u001b[1;32m    427\u001b[0m \u001b[38;5;28;01melif\u001b[39;00m using_copy_on_write():\n\u001b[1;32m    428\u001b[0m     copy \u001b[38;5;241m=\u001b[39m \u001b[38;5;28;01mFalse\u001b[39;00m\n\u001b[0;32m--> 430\u001b[0m \u001b[38;5;28;01mreturn\u001b[39;00m \u001b[38;5;28;43mself\u001b[39;49m\u001b[38;5;241;43m.\u001b[39;49m\u001b[43mapply\u001b[49m\u001b[43m(\u001b[49m\n\u001b[1;32m    431\u001b[0m \u001b[43m    \u001b[49m\u001b[38;5;124;43m\"\u001b[39;49m\u001b[38;5;124;43mastype\u001b[39;49m\u001b[38;5;124;43m\"\u001b[39;49m\u001b[43m,\u001b[49m\n\u001b[1;32m    432\u001b[0m \u001b[43m    \u001b[49m\u001b[43mdtype\u001b[49m\u001b[38;5;241;43m=\u001b[39;49m\u001b[43mdtype\u001b[49m\u001b[43m,\u001b[49m\n\u001b[1;32m    433\u001b[0m \u001b[43m    \u001b[49m\u001b[43mcopy\u001b[49m\u001b[38;5;241;43m=\u001b[39;49m\u001b[43mcopy\u001b[49m\u001b[43m,\u001b[49m\n\u001b[1;32m    434\u001b[0m \u001b[43m    \u001b[49m\u001b[43merrors\u001b[49m\u001b[38;5;241;43m=\u001b[39;49m\u001b[43merrors\u001b[49m\u001b[43m,\u001b[49m\n\u001b[1;32m    435\u001b[0m \u001b[43m    \u001b[49m\u001b[43musing_cow\u001b[49m\u001b[38;5;241;43m=\u001b[39;49m\u001b[43musing_copy_on_write\u001b[49m\u001b[43m(\u001b[49m\u001b[43m)\u001b[49m\u001b[43m,\u001b[49m\n\u001b[1;32m    436\u001b[0m \u001b[43m\u001b[49m\u001b[43m)\u001b[49m\n",
      "File \u001b[0;32m~/Desktop/Building/Portfolio/datos-demre/.venv/lib/python3.12/site-packages/pandas/core/internals/managers.py:363\u001b[0m, in \u001b[0;36mBaseBlockManager.apply\u001b[0;34m(self, f, align_keys, **kwargs)\u001b[0m\n\u001b[1;32m    361\u001b[0m         applied \u001b[38;5;241m=\u001b[39m b\u001b[38;5;241m.\u001b[39mapply(f, \u001b[38;5;241m*\u001b[39m\u001b[38;5;241m*\u001b[39mkwargs)\n\u001b[1;32m    362\u001b[0m     \u001b[38;5;28;01melse\u001b[39;00m:\n\u001b[0;32m--> 363\u001b[0m         applied \u001b[38;5;241m=\u001b[39m \u001b[38;5;28;43mgetattr\u001b[39;49m\u001b[43m(\u001b[49m\u001b[43mb\u001b[49m\u001b[43m,\u001b[49m\u001b[43m \u001b[49m\u001b[43mf\u001b[49m\u001b[43m)\u001b[49m\u001b[43m(\u001b[49m\u001b[38;5;241;43m*\u001b[39;49m\u001b[38;5;241;43m*\u001b[39;49m\u001b[43mkwargs\u001b[49m\u001b[43m)\u001b[49m\n\u001b[1;32m    364\u001b[0m     result_blocks \u001b[38;5;241m=\u001b[39m extend_blocks(applied, result_blocks)\n\u001b[1;32m    366\u001b[0m out \u001b[38;5;241m=\u001b[39m \u001b[38;5;28mtype\u001b[39m(\u001b[38;5;28mself\u001b[39m)\u001b[38;5;241m.\u001b[39mfrom_blocks(result_blocks, \u001b[38;5;28mself\u001b[39m\u001b[38;5;241m.\u001b[39maxes)\n",
      "File \u001b[0;32m~/Desktop/Building/Portfolio/datos-demre/.venv/lib/python3.12/site-packages/pandas/core/internals/blocks.py:758\u001b[0m, in \u001b[0;36mBlock.astype\u001b[0;34m(self, dtype, copy, errors, using_cow, squeeze)\u001b[0m\n\u001b[1;32m    755\u001b[0m         \u001b[38;5;28;01mraise\u001b[39;00m \u001b[38;5;167;01mValueError\u001b[39;00m(\u001b[38;5;124m\"\u001b[39m\u001b[38;5;124mCan not squeeze with more than one column.\u001b[39m\u001b[38;5;124m\"\u001b[39m)\n\u001b[1;32m    756\u001b[0m     values \u001b[38;5;241m=\u001b[39m values[\u001b[38;5;241m0\u001b[39m, :]  \u001b[38;5;66;03m# type: ignore[call-overload]\u001b[39;00m\n\u001b[0;32m--> 758\u001b[0m new_values \u001b[38;5;241m=\u001b[39m \u001b[43mastype_array_safe\u001b[49m\u001b[43m(\u001b[49m\u001b[43mvalues\u001b[49m\u001b[43m,\u001b[49m\u001b[43m \u001b[49m\u001b[43mdtype\u001b[49m\u001b[43m,\u001b[49m\u001b[43m \u001b[49m\u001b[43mcopy\u001b[49m\u001b[38;5;241;43m=\u001b[39;49m\u001b[43mcopy\u001b[49m\u001b[43m,\u001b[49m\u001b[43m \u001b[49m\u001b[43merrors\u001b[49m\u001b[38;5;241;43m=\u001b[39;49m\u001b[43merrors\u001b[49m\u001b[43m)\u001b[49m\n\u001b[1;32m    760\u001b[0m new_values \u001b[38;5;241m=\u001b[39m maybe_coerce_values(new_values)\n\u001b[1;32m    762\u001b[0m refs \u001b[38;5;241m=\u001b[39m \u001b[38;5;28;01mNone\u001b[39;00m\n",
      "File \u001b[0;32m~/Desktop/Building/Portfolio/datos-demre/.venv/lib/python3.12/site-packages/pandas/core/dtypes/astype.py:237\u001b[0m, in \u001b[0;36mastype_array_safe\u001b[0;34m(values, dtype, copy, errors)\u001b[0m\n\u001b[1;32m    234\u001b[0m     dtype \u001b[38;5;241m=\u001b[39m dtype\u001b[38;5;241m.\u001b[39mnumpy_dtype\n\u001b[1;32m    236\u001b[0m \u001b[38;5;28;01mtry\u001b[39;00m:\n\u001b[0;32m--> 237\u001b[0m     new_values \u001b[38;5;241m=\u001b[39m \u001b[43mastype_array\u001b[49m\u001b[43m(\u001b[49m\u001b[43mvalues\u001b[49m\u001b[43m,\u001b[49m\u001b[43m \u001b[49m\u001b[43mdtype\u001b[49m\u001b[43m,\u001b[49m\u001b[43m \u001b[49m\u001b[43mcopy\u001b[49m\u001b[38;5;241;43m=\u001b[39;49m\u001b[43mcopy\u001b[49m\u001b[43m)\u001b[49m\n\u001b[1;32m    238\u001b[0m \u001b[38;5;28;01mexcept\u001b[39;00m (\u001b[38;5;167;01mValueError\u001b[39;00m, \u001b[38;5;167;01mTypeError\u001b[39;00m):\n\u001b[1;32m    239\u001b[0m     \u001b[38;5;66;03m# e.g. _astype_nansafe can fail on object-dtype of strings\u001b[39;00m\n\u001b[1;32m    240\u001b[0m     \u001b[38;5;66;03m#  trying to convert to float\u001b[39;00m\n\u001b[1;32m    241\u001b[0m     \u001b[38;5;28;01mif\u001b[39;00m errors \u001b[38;5;241m==\u001b[39m \u001b[38;5;124m\"\u001b[39m\u001b[38;5;124mignore\u001b[39m\u001b[38;5;124m\"\u001b[39m:\n",
      "File \u001b[0;32m~/Desktop/Building/Portfolio/datos-demre/.venv/lib/python3.12/site-packages/pandas/core/dtypes/astype.py:182\u001b[0m, in \u001b[0;36mastype_array\u001b[0;34m(values, dtype, copy)\u001b[0m\n\u001b[1;32m    179\u001b[0m     values \u001b[38;5;241m=\u001b[39m values\u001b[38;5;241m.\u001b[39mastype(dtype, copy\u001b[38;5;241m=\u001b[39mcopy)\n\u001b[1;32m    181\u001b[0m \u001b[38;5;28;01melse\u001b[39;00m:\n\u001b[0;32m--> 182\u001b[0m     values \u001b[38;5;241m=\u001b[39m \u001b[43m_astype_nansafe\u001b[49m\u001b[43m(\u001b[49m\u001b[43mvalues\u001b[49m\u001b[43m,\u001b[49m\u001b[43m \u001b[49m\u001b[43mdtype\u001b[49m\u001b[43m,\u001b[49m\u001b[43m \u001b[49m\u001b[43mcopy\u001b[49m\u001b[38;5;241;43m=\u001b[39;49m\u001b[43mcopy\u001b[49m\u001b[43m)\u001b[49m\n\u001b[1;32m    184\u001b[0m \u001b[38;5;66;03m# in pandas we don't store numpy str dtypes, so convert to object\u001b[39;00m\n\u001b[1;32m    185\u001b[0m \u001b[38;5;28;01mif\u001b[39;00m \u001b[38;5;28misinstance\u001b[39m(dtype, np\u001b[38;5;241m.\u001b[39mdtype) \u001b[38;5;129;01mand\u001b[39;00m \u001b[38;5;28missubclass\u001b[39m(values\u001b[38;5;241m.\u001b[39mdtype\u001b[38;5;241m.\u001b[39mtype, \u001b[38;5;28mstr\u001b[39m):\n",
      "File \u001b[0;32m~/Desktop/Building/Portfolio/datos-demre/.venv/lib/python3.12/site-packages/pandas/core/dtypes/astype.py:133\u001b[0m, in \u001b[0;36m_astype_nansafe\u001b[0;34m(arr, dtype, copy, skipna)\u001b[0m\n\u001b[1;32m    129\u001b[0m     \u001b[38;5;28;01mraise\u001b[39;00m \u001b[38;5;167;01mValueError\u001b[39;00m(msg)\n\u001b[1;32m    131\u001b[0m \u001b[38;5;28;01mif\u001b[39;00m copy \u001b[38;5;129;01mor\u001b[39;00m arr\u001b[38;5;241m.\u001b[39mdtype \u001b[38;5;241m==\u001b[39m \u001b[38;5;28mobject\u001b[39m \u001b[38;5;129;01mor\u001b[39;00m dtype \u001b[38;5;241m==\u001b[39m \u001b[38;5;28mobject\u001b[39m:\n\u001b[1;32m    132\u001b[0m     \u001b[38;5;66;03m# Explicit copy, or required since NumPy can't view from / to object.\u001b[39;00m\n\u001b[0;32m--> 133\u001b[0m     \u001b[38;5;28;01mreturn\u001b[39;00m \u001b[43marr\u001b[49m\u001b[38;5;241;43m.\u001b[39;49m\u001b[43mastype\u001b[49m\u001b[43m(\u001b[49m\u001b[43mdtype\u001b[49m\u001b[43m,\u001b[49m\u001b[43m \u001b[49m\u001b[43mcopy\u001b[49m\u001b[38;5;241;43m=\u001b[39;49m\u001b[38;5;28;43;01mTrue\u001b[39;49;00m\u001b[43m)\u001b[49m\n\u001b[1;32m    135\u001b[0m \u001b[38;5;28;01mreturn\u001b[39;00m arr\u001b[38;5;241m.\u001b[39mastype(dtype, copy\u001b[38;5;241m=\u001b[39mcopy)\n",
      "\u001b[0;31mValueError\u001b[0m: invalid literal for int() with base 10: '.9+85.97e+83'"
     ]
    }
   ],
   "source": [
    "year = 2020\n",
    "# dfi, di = load_raw_dataset('inscripciones', year=year, verbose=VERBOSE)\n",
    "dfr, dr = load_raw_dataset('resultados', year=year, verbose=VERBOSE)\n",
    "# dfp, dp = load_raw_dataset('postulaciones', year=year, verbose=VERBOSE)\n",
    "# dfm, dm = load_raw_dataset('matriculas', year=year, verbose=VERBOSE)"
   ]
  },
  {
   "cell_type": "code",
   "execution_count": null,
   "metadata": {},
   "outputs": [],
   "source": []
  },
  {
   "cell_type": "markdown",
   "metadata": {},
   "source": [
    "# 2021"
   ]
  },
  {
   "cell_type": "code",
   "execution_count": null,
   "metadata": {},
   "outputs": [],
   "source": [
    "year = 2021\n",
    "# dfi, di = load_raw_dataset('inscripciones', year=year, verbose=VERBOSE)\n",
    "dfr, dr = load_raw_dataset('resultados', year=year, verbose=VERBOSE)\n",
    "# dfp, dp = load_raw_dataset('postulaciones', year=year, verbose=VERBOSE)\n",
    "# dfm, dm = load_raw_dataset('matriculas', year=year, verbose=VERBOSE)"
   ]
  },
  {
   "cell_type": "code",
   "execution_count": null,
   "metadata": {},
   "outputs": [],
   "source": []
  },
  {
   "cell_type": "markdown",
   "metadata": {},
   "source": [
    "# 2022"
   ]
  },
  {
   "cell_type": "code",
   "execution_count": null,
   "metadata": {},
   "outputs": [],
   "source": [
    "year = 2022\n",
    "# dfi, di = load_raw_dataset('inscripciones', year=year, verbose=VERBOSE)\n",
    "dfr, dr = load_raw_dataset('resultados', year=year, verbose=VERBOSE)\n",
    "# dfp, dp = load_raw_dataset('postulaciones', year=year, verbose=VERBOSE)\n",
    "# dfm, dm = load_raw_dataset('matriculas', year=year, verbose=VERBOSE)"
   ]
  },
  {
   "cell_type": "code",
   "execution_count": null,
   "metadata": {},
   "outputs": [],
   "source": []
  },
  {
   "cell_type": "markdown",
   "metadata": {},
   "source": [
    "# 2023"
   ]
  },
  {
   "cell_type": "code",
   "execution_count": null,
   "metadata": {},
   "outputs": [],
   "source": [
    "year = 2023\n",
    "# dfi, di = load_raw_dataset('inscripciones', year=year, verbose=VERBOSE)\n",
    "dfr, dr = load_raw_dataset('resultados', year=year, verbose=VERBOSE)\n",
    "# dfp, dp = load_raw_dataset('postulaciones', year=year, verbose=VERBOSE)\n",
    "# dfm, dm = load_raw_dataset('matriculas', year=year, verbose=VERBOSE)"
   ]
  },
  {
   "cell_type": "code",
   "execution_count": null,
   "metadata": {},
   "outputs": [],
   "source": []
  },
  {
   "cell_type": "markdown",
   "metadata": {},
   "source": [
    "# 2024"
   ]
  },
  {
   "cell_type": "code",
   "execution_count": null,
   "metadata": {},
   "outputs": [],
   "source": [
    "year = 2024\n",
    "# dfi, di = load_raw_dataset('inscripciones', year=year, verbose=VERBOSE)\n",
    "dfr, dr = load_raw_dataset('resultados', year=year, verbose=VERBOSE)\n",
    "# dfp, dp = load_raw_dataset('postulaciones', year=year, verbose=VERBOSE)\n",
    "# dfm, dm = load_raw_dataset('matriculas', year=year, verbose=VERBOSE)"
   ]
  },
  {
   "cell_type": "code",
   "execution_count": null,
   "metadata": {},
   "outputs": [],
   "source": []
  },
  {
   "cell_type": "markdown",
   "metadata": {},
   "source": [
    "# 2025"
   ]
  },
  {
   "cell_type": "code",
   "execution_count": null,
   "metadata": {},
   "outputs": [],
   "source": [
    "year = 2025\n",
    "# dfi, di = load_raw_dataset('inscripciones', year=year, verbose=VERBOSE)\n",
    "dfr, dr = load_raw_dataset('resultados', year=year, verbose=VERBOSE)\n",
    "# dfp, dp = load_raw_dataset('postulaciones', year=year, verbose=VERBOSE)\n",
    "# dfm, dm = load_raw_dataset('matriculas', year=year, verbose=VERBOSE)"
   ]
  },
  {
   "cell_type": "code",
   "execution_count": null,
   "metadata": {},
   "outputs": [],
   "source": []
  }
 ],
 "metadata": {
  "kernelspec": {
   "display_name": ".venv",
   "language": "python",
   "name": "python3"
  },
  "language_info": {
   "codemirror_mode": {
    "name": "ipython",
    "version": 3
   },
   "file_extension": ".py",
   "mimetype": "text/x-python",
   "name": "python",
   "nbconvert_exporter": "python",
   "pygments_lexer": "ipython3",
   "version": "3.12.3"
  }
 },
 "nbformat": 4,
 "nbformat_minor": 2
}
